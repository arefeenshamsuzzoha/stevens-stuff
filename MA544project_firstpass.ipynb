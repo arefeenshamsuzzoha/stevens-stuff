{
 "cells": [
  {
   "cell_type": "code",
   "execution_count": 1,
   "id": "efe5cd5c-77e8-42b3-b931-9cfa431aac73",
   "metadata": {},
   "outputs": [],
   "source": [
    "import pandas as pd"
   ]
  },
  {
   "cell_type": "code",
   "execution_count": 2,
   "id": "92c214f2-b89f-4c9b-a8f4-1e31f81f8b23",
   "metadata": {},
   "outputs": [],
   "source": [
    "project_data = pd.read_csv('data.csv')"
   ]
  },
  {
   "cell_type": "code",
   "execution_count": 3,
   "id": "c56b25e0-2110-4ef0-a361-07fe1e35daad",
   "metadata": {},
   "outputs": [
    {
     "data": {
      "text/html": [
       "<div>\n",
       "<style scoped>\n",
       "    .dataframe tbody tr th:only-of-type {\n",
       "        vertical-align: middle;\n",
       "    }\n",
       "\n",
       "    .dataframe tbody tr th {\n",
       "        vertical-align: top;\n",
       "    }\n",
       "\n",
       "    .dataframe thead th {\n",
       "        text-align: right;\n",
       "    }\n",
       "</style>\n",
       "<table border=\"1\" class=\"dataframe\">\n",
       "  <thead>\n",
       "    <tr style=\"text-align: right;\">\n",
       "      <th></th>\n",
       "      <th>Close_ETF</th>\n",
       "      <th>oil</th>\n",
       "      <th>gold</th>\n",
       "      <th>JPM</th>\n",
       "    </tr>\n",
       "  </thead>\n",
       "  <tbody>\n",
       "    <tr>\n",
       "      <th>0</th>\n",
       "      <td>97.349998</td>\n",
       "      <td>0.039242</td>\n",
       "      <td>0.004668</td>\n",
       "      <td>0.032258</td>\n",
       "    </tr>\n",
       "    <tr>\n",
       "      <th>1</th>\n",
       "      <td>97.750000</td>\n",
       "      <td>0.001953</td>\n",
       "      <td>-0.001366</td>\n",
       "      <td>-0.002948</td>\n",
       "    </tr>\n",
       "    <tr>\n",
       "      <th>2</th>\n",
       "      <td>99.160004</td>\n",
       "      <td>-0.031514</td>\n",
       "      <td>-0.007937</td>\n",
       "      <td>0.025724</td>\n",
       "    </tr>\n",
       "    <tr>\n",
       "      <th>3</th>\n",
       "      <td>99.650002</td>\n",
       "      <td>0.034552</td>\n",
       "      <td>0.014621</td>\n",
       "      <td>0.011819</td>\n",
       "    </tr>\n",
       "    <tr>\n",
       "      <th>4</th>\n",
       "      <td>99.260002</td>\n",
       "      <td>0.013619</td>\n",
       "      <td>-0.011419</td>\n",
       "      <td>0.000855</td>\n",
       "    </tr>\n",
       "  </tbody>\n",
       "</table>\n",
       "</div>"
      ],
      "text/plain": [
       "   Close_ETF       oil      gold       JPM\n",
       "0  97.349998  0.039242  0.004668  0.032258\n",
       "1  97.750000  0.001953 -0.001366 -0.002948\n",
       "2  99.160004 -0.031514 -0.007937  0.025724\n",
       "3  99.650002  0.034552  0.014621  0.011819\n",
       "4  99.260002  0.013619 -0.011419  0.000855"
      ]
     },
     "execution_count": 3,
     "metadata": {},
     "output_type": "execute_result"
    }
   ],
   "source": [
    "project_data.head()"
   ]
  },
  {
   "cell_type": "code",
   "execution_count": 5,
   "id": "4130fe56-6ef4-4eba-90c9-d0fe468f8cf3",
   "metadata": {},
   "outputs": [
    {
     "data": {
      "text/plain": [
       "121.152960012"
      ]
     },
     "execution_count": 5,
     "metadata": {},
     "output_type": "execute_result"
    }
   ],
   "source": [
    "project_data['Close_ETF'].mean()"
   ]
  },
  {
   "cell_type": "code",
   "execution_count": 7,
   "id": "cd50f05d-f621-42b4-970d-b7153e7e51d2",
   "metadata": {},
   "outputs": [
    {
     "data": {
      "text/plain": [
       "12.569790313110744"
      ]
     },
     "execution_count": 7,
     "metadata": {},
     "output_type": "execute_result"
    }
   ],
   "source": [
    "project_data['Close_ETF'].std()"
   ]
  },
  {
   "cell_type": "code",
   "execution_count": 8,
   "id": "64b8d752-82f4-47e2-b7c4-5a7fb616b168",
   "metadata": {},
   "outputs": [
    {
     "data": {
      "text/plain": [
       "0.0010300354899999999"
      ]
     },
     "execution_count": 8,
     "metadata": {},
     "output_type": "execute_result"
    }
   ],
   "source": [
    "project_data['oil'].mean()"
   ]
  },
  {
   "cell_type": "code",
   "execution_count": 9,
   "id": "de2c4533-44e7-42a0-9768-f9aee5ce72c6",
   "metadata": {},
   "outputs": [
    {
     "data": {
      "text/plain": [
       "0.021092898546652354"
      ]
     },
     "execution_count": 9,
     "metadata": {},
     "output_type": "execute_result"
    }
   ],
   "source": [
    "project_data['oil'].std()"
   ]
  },
  {
   "cell_type": "code",
   "execution_count": 10,
   "id": "4c7949f2-926d-4454-a47b-b7834325971b",
   "metadata": {},
   "outputs": [
    {
     "data": {
      "text/plain": [
       "0.0006628360819999999"
      ]
     },
     "execution_count": 10,
     "metadata": {},
     "output_type": "execute_result"
    }
   ],
   "source": [
    "project_data['gold'].mean()"
   ]
  },
  {
   "cell_type": "code",
   "execution_count": 11,
   "id": "5cb4715e-8dee-411b-9a63-d277d491e6c2",
   "metadata": {},
   "outputs": [
    {
     "data": {
      "text/plain": [
       "0.021092898546652354"
      ]
     },
     "execution_count": 11,
     "metadata": {},
     "output_type": "execute_result"
    }
   ],
   "source": [
    "project_data['oil'].std()"
   ]
  },
  {
   "cell_type": "code",
   "execution_count": 12,
   "id": "735453ce-ddb1-4489-8717-5cee798ef4f6",
   "metadata": {},
   "outputs": [
    {
     "data": {
      "text/plain": [
       "0.0005304110210000001"
      ]
     },
     "execution_count": 12,
     "metadata": {},
     "output_type": "execute_result"
    }
   ],
   "source": [
    "project_data['JPM'].mean()"
   ]
  },
  {
   "cell_type": "code",
   "execution_count": 13,
   "id": "1339d91e-fa06-4148-b8ef-2e232d81f229",
   "metadata": {},
   "outputs": [
    {
     "data": {
      "text/plain": [
       "0.011016562382593569"
      ]
     },
     "execution_count": 13,
     "metadata": {},
     "output_type": "execute_result"
    }
   ],
   "source": [
    "project_data['JPM'].std()"
   ]
  },
  {
   "cell_type": "code",
   "execution_count": 14,
   "id": "34846bdc-43a7-4589-b201-7e9dbfe2a82e",
   "metadata": {},
   "outputs": [
    {
     "data": {
      "text/plain": [
       "-0.009044842546401212"
      ]
     },
     "execution_count": 14,
     "metadata": {},
     "output_type": "execute_result"
    }
   ],
   "source": [
    "project_data['Close_ETF'].corr(project_data['oil'])"
   ]
  },
  {
   "cell_type": "code",
   "execution_count": 15,
   "id": "23611bbe-5d34-4fd3-9de2-240237df8f59",
   "metadata": {},
   "outputs": [
    {
     "data": {
      "text/plain": [
       "0.022995570076054597"
      ]
     },
     "execution_count": 15,
     "metadata": {},
     "output_type": "execute_result"
    }
   ],
   "source": [
    "project_data['Close_ETF'].corr(project_data['gold'])"
   ]
  },
  {
   "cell_type": "code",
   "execution_count": 16,
   "id": "8e7a0ab2-6e71-42f1-ac21-c81dc00ddfdd",
   "metadata": {},
   "outputs": [
    {
     "data": {
      "text/plain": [
       "0.03680705773259186"
      ]
     },
     "execution_count": 16,
     "metadata": {},
     "output_type": "execute_result"
    }
   ],
   "source": [
    "project_data['Close_ETF'].corr(project_data['JPM'])"
   ]
  },
  {
   "cell_type": "code",
   "execution_count": 17,
   "id": "93867d98-2ca8-4af6-8df6-1ec96786059f",
   "metadata": {},
   "outputs": [
    {
     "data": {
      "text/plain": [
       "0.23565037170861333"
      ]
     },
     "execution_count": 17,
     "metadata": {},
     "output_type": "execute_result"
    }
   ],
   "source": [
    "project_data['oil'].corr(project_data['gold'])"
   ]
  },
  {
   "cell_type": "code",
   "execution_count": 18,
   "id": "cdd34947-eef5-48da-b617-08de37bfcc92",
   "metadata": {},
   "outputs": [
    {
     "data": {
      "text/plain": [
       "-0.12084893060261485"
      ]
     },
     "execution_count": 18,
     "metadata": {},
     "output_type": "execute_result"
    }
   ],
   "source": [
    "project_data['oil'].corr(project_data['JPM'])"
   ]
  },
  {
   "cell_type": "code",
   "execution_count": 19,
   "id": "1ebe2284-b79b-4bfe-bb07-789d78e649dc",
   "metadata": {},
   "outputs": [
    {
     "data": {
      "text/plain": [
       "-0.009044842546401212"
      ]
     },
     "execution_count": 19,
     "metadata": {},
     "output_type": "execute_result"
    }
   ],
   "source": [
    "project_data['oil'].corr(project_data['Close_ETF'])"
   ]
  },
  {
   "cell_type": "code",
   "execution_count": 20,
   "id": "f273572b-f54a-4d79-bf58-1743f2d91da2",
   "metadata": {},
   "outputs": [
    {
     "data": {
      "text/plain": [
       "0.0229955700760546"
      ]
     },
     "execution_count": 20,
     "metadata": {},
     "output_type": "execute_result"
    }
   ],
   "source": [
    "project_data['gold'].corr(project_data['Close_ETF'])"
   ]
  },
  {
   "cell_type": "code",
   "execution_count": 21,
   "id": "7f70a464-5440-4585-86fe-853de46dbec6",
   "metadata": {},
   "outputs": [
    {
     "data": {
      "text/plain": [
       "0.23565037170861333"
      ]
     },
     "execution_count": 21,
     "metadata": {},
     "output_type": "execute_result"
    }
   ],
   "source": [
    "project_data['gold'].corr(project_data['oil'])"
   ]
  },
  {
   "cell_type": "code",
   "execution_count": 22,
   "id": "0a98fb4e-3a3f-4873-a62b-5be41c3aa2b1",
   "metadata": {},
   "outputs": [
    {
     "data": {
      "text/plain": [
       "0.10016984211388412"
      ]
     },
     "execution_count": 22,
     "metadata": {},
     "output_type": "execute_result"
    }
   ],
   "source": [
    "project_data['gold'].corr(project_data['JPM'])"
   ]
  },
  {
   "cell_type": "code",
   "execution_count": 23,
   "id": "b067aab7-e197-4287-8fbb-5f969de6420c",
   "metadata": {},
   "outputs": [
    {
     "data": {
      "text/plain": [
       "-0.12084893060261485"
      ]
     },
     "execution_count": 23,
     "metadata": {},
     "output_type": "execute_result"
    }
   ],
   "source": [
    "project_data['JPM'].corr(project_data['oil'])"
   ]
  },
  {
   "cell_type": "code",
   "execution_count": 24,
   "id": "c2c16f6e-1712-4cd9-a05e-7b8089d246f1",
   "metadata": {},
   "outputs": [
    {
     "data": {
      "text/plain": [
       "0.10016984211388413"
      ]
     },
     "execution_count": 24,
     "metadata": {},
     "output_type": "execute_result"
    }
   ],
   "source": [
    "project_data['JPM'].corr(project_data['gold'])"
   ]
  },
  {
   "cell_type": "code",
   "execution_count": 25,
   "id": "295af119-b87c-4aeb-9e95-fcfd248e5016",
   "metadata": {},
   "outputs": [
    {
     "data": {
      "text/plain": [
       "0.03680705773259186"
      ]
     },
     "execution_count": 25,
     "metadata": {},
     "output_type": "execute_result"
    }
   ],
   "source": [
    "project_data['JPM'].corr(project_data['Close_ETF'])"
   ]
  },
  {
   "cell_type": "code",
   "execution_count": null,
   "id": "e5b4c904-b142-4f54-a2f7-ea03a76729c7",
   "metadata": {},
   "outputs": [],
   "source": []
  }
 ],
 "metadata": {
  "kernelspec": {
   "display_name": "Python 3",
   "language": "python",
   "name": "python3"
  },
  "language_info": {
   "codemirror_mode": {
    "name": "ipython",
    "version": 3
   },
   "file_extension": ".py",
   "mimetype": "text/x-python",
   "name": "python",
   "nbconvert_exporter": "python",
   "pygments_lexer": "ipython3",
   "version": "3.8.5"
  }
 },
 "nbformat": 4,
 "nbformat_minor": 5
}
