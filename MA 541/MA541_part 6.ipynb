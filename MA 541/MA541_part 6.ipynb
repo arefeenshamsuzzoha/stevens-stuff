{
 "cells": [
  {
   "cell_type": "code",
   "execution_count": 6,
   "metadata": {},
   "outputs": [],
   "source": [
    "#part 6 \n",
    "\n",
    "import numpy as np\n",
    "import pandas as pd\n",
    "import scipy.stats as st\n",
    "from scipy import stats\n",
    "#from scipy.stats import norm\n",
    "\n"
   ]
  },
  {
   "cell_type": "code",
   "execution_count": 8,
   "metadata": {},
   "outputs": [
    {
     "data": {
      "text/html": [
       "<div>\n",
       "<style scoped>\n",
       "    .dataframe tbody tr th:only-of-type {\n",
       "        vertical-align: middle;\n",
       "    }\n",
       "\n",
       "    .dataframe tbody tr th {\n",
       "        vertical-align: top;\n",
       "    }\n",
       "\n",
       "    .dataframe thead th {\n",
       "        text-align: right;\n",
       "    }\n",
       "</style>\n",
       "<table border=\"1\" class=\"dataframe\">\n",
       "  <thead>\n",
       "    <tr style=\"text-align: right;\">\n",
       "      <th></th>\n",
       "      <th>Close_ETF</th>\n",
       "      <th>oil</th>\n",
       "      <th>gold</th>\n",
       "      <th>JPM</th>\n",
       "    </tr>\n",
       "  </thead>\n",
       "  <tbody>\n",
       "    <tr>\n",
       "      <th>0</th>\n",
       "      <td>97.349998</td>\n",
       "      <td>0.039242</td>\n",
       "      <td>0.004668</td>\n",
       "      <td>0.032258</td>\n",
       "    </tr>\n",
       "    <tr>\n",
       "      <th>1</th>\n",
       "      <td>97.750000</td>\n",
       "      <td>0.001953</td>\n",
       "      <td>-0.001366</td>\n",
       "      <td>-0.002948</td>\n",
       "    </tr>\n",
       "    <tr>\n",
       "      <th>2</th>\n",
       "      <td>99.160004</td>\n",
       "      <td>-0.031514</td>\n",
       "      <td>-0.007937</td>\n",
       "      <td>0.025724</td>\n",
       "    </tr>\n",
       "    <tr>\n",
       "      <th>3</th>\n",
       "      <td>99.650002</td>\n",
       "      <td>0.034552</td>\n",
       "      <td>0.014621</td>\n",
       "      <td>0.011819</td>\n",
       "    </tr>\n",
       "    <tr>\n",
       "      <th>4</th>\n",
       "      <td>99.260002</td>\n",
       "      <td>0.013619</td>\n",
       "      <td>-0.011419</td>\n",
       "      <td>0.000855</td>\n",
       "    </tr>\n",
       "  </tbody>\n",
       "</table>\n",
       "</div>"
      ],
      "text/plain": [
       "   Close_ETF       oil      gold       JPM\n",
       "0  97.349998  0.039242  0.004668  0.032258\n",
       "1  97.750000  0.001953 -0.001366 -0.002948\n",
       "2  99.160004 -0.031514 -0.007937  0.025724\n",
       "3  99.650002  0.034552  0.014621  0.011819\n",
       "4  99.260002  0.013619 -0.011419  0.000855"
      ]
     },
     "execution_count": 8,
     "metadata": {},
     "output_type": "execute_result"
    }
   ],
   "source": [
    "project_data = pd.read_csv('data.csv')\n",
    "project_data.head()"
   ]
  },
  {
   "cell_type": "code",
   "execution_count": 14,
   "metadata": {},
   "outputs": [
    {
     "name": "stdout",
     "output_type": "stream",
     "text": [
      "122.70040003999996\n",
      "\n",
      "1.289192897836508\n",
      "The values is 17.608226106500602\n",
      "The p value is: 2.903124981046784e-32\n",
      "The test is reject H0\n"
     ]
    }
   ],
   "source": [
    "#Use the same sample you picked up in Step1)of Part 5 to test 𝑯𝟎: 𝝁=𝟏𝟎𝟎vs.𝑯𝒂: 𝝁 ≠ 𝟏𝟎𝟎 at the significance level 0.05. \n",
    "#What’s your conclusion?\n",
    "\n",
    "x = project_data[\"Close_ETF\"]\n",
    "sample_100 = pd.Series(x.sample(n=100, replace=True))\n",
    "st.norm.interval(alpha=0.95, loc=sample_100.mean(), scale=sample_100.std())\n",
    "\n",
    "print(sample_100.mean())\n",
    "print()\n",
    "\n",
    "mu = sample_100.mean()\n",
    "std = sample_100.std()\n",
    "n = 100\n",
    "mu_0 = 100\n",
    "S_x = std/np.sqrt(n)\n",
    "print(S_x)\n",
    "\n",
    "T = (mu - mu_0)/S_x\n",
    "print(\"The values is\",T)\n",
    "\n",
    "pval = stats.t.sf(np.abs(T), n-1)*2 \n",
    "print(\"The p value is:\",pval)\n",
    "\n",
    "alpha_1 = 0.05\n",
    "\n",
    "if pval>alpha_1:\n",
    "    print(\"The test is failed to reject H0\")\n",
    "else:\n",
    "    print(\"The test is reject H0\")\n"
   ]
  },
  {
   "cell_type": "code",
   "execution_count": 24,
   "metadata": {},
   "outputs": [
    {
     "name": "stdout",
     "output_type": "stream",
     "text": [
      "124.03160040000003\n",
      "\n",
      "1.3647313461426882\n",
      "The values is 17.05441859731897\n",
      "The p value is: 3.1588246870837195e-31\n",
      "The test is reject H0\n"
     ]
    }
   ],
   "source": [
    "#Use the same sample you picked up in Step 2)of Part5 to test𝑯𝟎: 𝝁=𝟏𝟎𝟎vs. 𝑯𝒂: 𝝁 ≠ 𝟏𝟎𝟎 at the significance level 0.05. \n",
    "#What’s your conclusion?\n",
    "\n",
    "x = project_data[\"Close_ETF\"]\n",
    "sample_50 = pd.Series(x.sample(n=50, replace=True))\n",
    "st.t.interval(alpha=0.95, df = len(sample_50)-1, loc=sample_50.mean(), scale=sample_50.std())\n",
    "print(sample_50.mean())\n",
    "print()\n",
    "\n",
    "#ttest(mean_series_rand_50,100,.05)\n",
    "\n",
    "mu = sample_100.mean()\n",
    "std = sample_100.std()\n",
    "n = 100\n",
    "mu_0 = 100\n",
    "S_x = std/np.sqrt(n)\n",
    "print(S_x)\n",
    "\n",
    "T = (mu - mu_0)/S_x\n",
    "print(\"The values is\",T)\n",
    "\n",
    "pval = stats.t.sf(np.abs(T), n-1)*2 \n",
    "print(\"The p value is:\",pval)\n",
    "\n",
    "alpha_1 = 0.05\n",
    "\n",
    "if pval>alpha_1:\n",
    "    print(\"The test is failed to reject H0\")\n",
    "else:\n",
    "    print(\"The test is reject H0\")"
   ]
  },
  {
   "cell_type": "code",
   "execution_count": 25,
   "metadata": {},
   "outputs": [
    {
     "data": {
      "text/plain": [
       "(94.75124314606383, 153.31195765393625)"
      ]
     },
     "execution_count": 25,
     "metadata": {},
     "output_type": "execute_result"
    }
   ],
   "source": [
    "#Use the same sample you picked up in Step 2) of Part5 to test 𝑯𝟎: 𝝈=𝟏𝟓 vs.𝑯𝒂: 𝝈 ≠ 𝟏𝟓 at the significance level 0.05. \n",
    "#What’s your conclusion?\n",
    "\n",
    "st.t.interval(alpha=0.95, df = len(sample_50)-1, loc=sample_50.mean(), scale=sample_50.std())\n",
    "\n"
   ]
  },
  {
   "cell_type": "code",
   "execution_count": 22,
   "metadata": {},
   "outputs": [],
   "source": [
    "#Use the same sample you picked up in Step2) of Part 5 to test 𝑯𝟎: 𝝈=𝟏𝟓 vs.𝑯𝒂: 𝝈 < 𝟏𝟓 at the significance level 0.05. \n",
    "#What’s your conclusion?"
   ]
  },
  {
   "cell_type": "code",
   "execution_count": null,
   "metadata": {},
   "outputs": [],
   "source": []
  },
  {
   "cell_type": "code",
   "execution_count": null,
   "metadata": {},
   "outputs": [],
   "source": []
  }
 ],
 "metadata": {
  "kernelspec": {
   "display_name": "Python 3",
   "language": "python",
   "name": "python3"
  },
  "language_info": {
   "codemirror_mode": {
    "name": "ipython",
    "version": 3
   },
   "file_extension": ".py",
   "mimetype": "text/x-python",
   "name": "python",
   "nbconvert_exporter": "python",
   "pygments_lexer": "ipython3",
   "version": "3.8.5"
  }
 },
 "nbformat": 4,
 "nbformat_minor": 4
}
