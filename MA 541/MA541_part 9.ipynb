{
 "cells": [
  {
   "cell_type": "code",
   "execution_count": 2,
   "metadata": {},
   "outputs": [
    {
     "data": {
      "text/html": [
       "<div>\n",
       "<style scoped>\n",
       "    .dataframe tbody tr th:only-of-type {\n",
       "        vertical-align: middle;\n",
       "    }\n",
       "\n",
       "    .dataframe tbody tr th {\n",
       "        vertical-align: top;\n",
       "    }\n",
       "\n",
       "    .dataframe thead th {\n",
       "        text-align: right;\n",
       "    }\n",
       "</style>\n",
       "<table border=\"1\" class=\"dataframe\">\n",
       "  <thead>\n",
       "    <tr style=\"text-align: right;\">\n",
       "      <th></th>\n",
       "      <th>Close_ETF</th>\n",
       "      <th>oil</th>\n",
       "      <th>gold</th>\n",
       "      <th>JPM</th>\n",
       "    </tr>\n",
       "  </thead>\n",
       "  <tbody>\n",
       "    <tr>\n",
       "      <th>0</th>\n",
       "      <td>97.349998</td>\n",
       "      <td>0.039242</td>\n",
       "      <td>0.004668</td>\n",
       "      <td>0.032258</td>\n",
       "    </tr>\n",
       "    <tr>\n",
       "      <th>1</th>\n",
       "      <td>97.750000</td>\n",
       "      <td>0.001953</td>\n",
       "      <td>-0.001366</td>\n",
       "      <td>-0.002948</td>\n",
       "    </tr>\n",
       "    <tr>\n",
       "      <th>2</th>\n",
       "      <td>99.160004</td>\n",
       "      <td>-0.031514</td>\n",
       "      <td>-0.007937</td>\n",
       "      <td>0.025724</td>\n",
       "    </tr>\n",
       "    <tr>\n",
       "      <th>3</th>\n",
       "      <td>99.650002</td>\n",
       "      <td>0.034552</td>\n",
       "      <td>0.014621</td>\n",
       "      <td>0.011819</td>\n",
       "    </tr>\n",
       "    <tr>\n",
       "      <th>4</th>\n",
       "      <td>99.260002</td>\n",
       "      <td>0.013619</td>\n",
       "      <td>-0.011419</td>\n",
       "      <td>0.000855</td>\n",
       "    </tr>\n",
       "  </tbody>\n",
       "</table>\n",
       "</div>"
      ],
      "text/plain": [
       "   Close_ETF       oil      gold       JPM\n",
       "0  97.349998  0.039242  0.004668  0.032258\n",
       "1  97.750000  0.001953 -0.001366 -0.002948\n",
       "2  99.160004 -0.031514 -0.007937  0.025724\n",
       "3  99.650002  0.034552  0.014621  0.011819\n",
       "4  99.260002  0.013619 -0.011419  0.000855"
      ]
     },
     "execution_count": 2,
     "metadata": {},
     "output_type": "execute_result"
    }
   ],
   "source": [
    "#Consider the data including the ETF, Gold and Oil column.\n",
    "#Using any software, fit a multiple linear regression model to the data with the ETF variable as the response.\n",
    "#Evaluate your model with adjusted R^2. \n",
    "\n",
    "import pandas as pd \n",
    "import numpy as np \n",
    "%matplotlib inline\n",
    "import matplotlib.pyplot as plt\n",
    "import seaborn as sns\n",
    "from sklearn import linear_model\n",
    "\n",
    "\n",
    "\n",
    "project_data = pd.read_csv('data.csv')\n",
    "project_data.head()\n",
    "\n"
   ]
  },
  {
   "cell_type": "code",
   "execution_count": 4,
   "metadata": {},
   "outputs": [
    {
     "data": {
      "text/plain": [
       "LinearRegression()"
      ]
     },
     "execution_count": 4,
     "metadata": {},
     "output_type": "execute_result"
    }
   ],
   "source": [
    "X = project_data[['oil','gold']]\n",
    "y = project_data['Close_ETF']\n",
    "\n",
    "regr = linear_model.LinearRegression()\n",
    "regr.fit(X, y)"
   ]
  },
  {
   "cell_type": "code",
   "execution_count": 15,
   "metadata": {},
   "outputs": [
    {
     "name": "stdout",
     "output_type": "stream",
     "text": [
      "The value of R^2:  -0.0012542162682833702\n"
     ]
    }
   ],
   "source": [
    "R_2 = 1 - (1-regr.score(X, y))*(len(y)-1)/(len(y)-X.shape[1]-1)\n",
    "print('The value of R^2: ',R_2)"
   ]
  },
  {
   "cell_type": "code",
   "execution_count": null,
   "metadata": {},
   "outputs": [],
   "source": []
  },
  {
   "cell_type": "code",
   "execution_count": null,
   "metadata": {},
   "outputs": [],
   "source": []
  }
 ],
 "metadata": {
  "kernelspec": {
   "display_name": "Python 3",
   "language": "python",
   "name": "python3"
  },
  "language_info": {
   "codemirror_mode": {
    "name": "ipython",
    "version": 3
   },
   "file_extension": ".py",
   "mimetype": "text/x-python",
   "name": "python",
   "nbconvert_exporter": "python",
   "pygments_lexer": "ipython3",
   "version": "3.8.5"
  }
 },
 "nbformat": 4,
 "nbformat_minor": 4
}
