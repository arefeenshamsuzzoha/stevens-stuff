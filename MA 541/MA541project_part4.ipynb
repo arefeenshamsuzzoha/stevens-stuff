{
 "cells": [
  {
   "cell_type": "code",
   "execution_count": 1,
   "id": "870a03f9-c223-4013-a260-90614c711fc4",
   "metadata": {},
   "outputs": [],
   "source": [
    "import pandas as pd"
   ]
  },
  {
   "cell_type": "code",
   "execution_count": 2,
   "id": "d4b515ea-0f9d-4d0d-923a-c2e0a7dc2fc3",
   "metadata": {},
   "outputs": [],
   "source": [
    "project_data = pd.read_csv('data.csv')"
   ]
  },
  {
   "cell_type": "code",
   "execution_count": 92,
   "id": "44639224-4b58-4ff5-98b8-28a2a5a53a5b",
   "metadata": {},
   "outputs": [],
   "source": [
    "x = project_data[\"Close_ETF\"]"
   ]
  },
  {
   "cell_type": "code",
   "execution_count": 4,
   "id": "53547d20-3634-4d29-8503-afa110536b9d",
   "metadata": {},
   "outputs": [
    {
     "data": {
      "text/plain": [
       "count    1000.000000\n",
       "mean      121.152960\n",
       "std        12.569790\n",
       "min        96.419998\n",
       "25%       112.580002\n",
       "50%       120.150002\n",
       "75%       128.687497\n",
       "max       152.619995\n",
       "Name: Close_ETF, dtype: float64"
      ]
     },
     "execution_count": 4,
     "metadata": {},
     "output_type": "execute_result"
    }
   ],
   "source": [
    "x.describe()"
   ]
  },
  {
   "cell_type": "code",
   "execution_count": 5,
   "id": "81621904-3522-41b0-8bbf-2a71e84a5101",
   "metadata": {},
   "outputs": [
    {
     "data": {
      "text/plain": [
       "121.1529600120001"
      ]
     },
     "execution_count": 5,
     "metadata": {},
     "output_type": "execute_result"
    }
   ],
   "source": [
    "x.mean()"
   ]
  },
  {
   "cell_type": "code",
   "execution_count": 6,
   "id": "2d748e50-7f8f-4217-98f0-c113af31d4ce",
   "metadata": {},
   "outputs": [
    {
     "data": {
      "text/plain": [
       "12.569790313110744"
      ]
     },
     "execution_count": 6,
     "metadata": {},
     "output_type": "execute_result"
    }
   ],
   "source": [
    "x.std()"
   ]
  },
  {
   "cell_type": "markdown",
   "id": "619054c6-278a-4a37-8fcd-a53fd5b3be3d",
   "metadata": {},
   "source": [
    "### 50 groups of 20"
   ]
  },
  {
   "cell_type": "code",
   "execution_count": 38,
   "id": "4ebc4ba5-83c8-4bd6-8fdb-68546ee730ec",
   "metadata": {},
   "outputs": [
    {
     "data": {
      "text/html": [
       "<div>\n",
       "<style scoped>\n",
       "    .dataframe tbody tr th:only-of-type {\n",
       "        vertical-align: middle;\n",
       "    }\n",
       "\n",
       "    .dataframe tbody tr th {\n",
       "        vertical-align: top;\n",
       "    }\n",
       "\n",
       "    .dataframe thead th {\n",
       "        text-align: right;\n",
       "    }\n",
       "</style>\n",
       "<table border=\"1\" class=\"dataframe\">\n",
       "  <thead>\n",
       "    <tr style=\"text-align: right;\">\n",
       "      <th></th>\n",
       "      <th>Close_ETF</th>\n",
       "      <th>oil</th>\n",
       "      <th>gold</th>\n",
       "      <th>JPM</th>\n",
       "      <th>n20bins</th>\n",
       "    </tr>\n",
       "  </thead>\n",
       "  <tbody>\n",
       "    <tr>\n",
       "      <th>0</th>\n",
       "      <td>97.349998</td>\n",
       "      <td>0.039242</td>\n",
       "      <td>0.004668</td>\n",
       "      <td>0.032258</td>\n",
       "      <td>(96.419, 98.799]</td>\n",
       "    </tr>\n",
       "    <tr>\n",
       "      <th>1</th>\n",
       "      <td>97.750000</td>\n",
       "      <td>0.001953</td>\n",
       "      <td>-0.001366</td>\n",
       "      <td>-0.002948</td>\n",
       "      <td>(96.419, 98.799]</td>\n",
       "    </tr>\n",
       "    <tr>\n",
       "      <th>2</th>\n",
       "      <td>99.160004</td>\n",
       "      <td>-0.031514</td>\n",
       "      <td>-0.007937</td>\n",
       "      <td>0.025724</td>\n",
       "      <td>(98.799, 99.856]</td>\n",
       "    </tr>\n",
       "    <tr>\n",
       "      <th>3</th>\n",
       "      <td>99.650002</td>\n",
       "      <td>0.034552</td>\n",
       "      <td>0.014621</td>\n",
       "      <td>0.011819</td>\n",
       "      <td>(98.799, 99.856]</td>\n",
       "    </tr>\n",
       "    <tr>\n",
       "      <th>4</th>\n",
       "      <td>99.260002</td>\n",
       "      <td>0.013619</td>\n",
       "      <td>-0.011419</td>\n",
       "      <td>0.000855</td>\n",
       "      <td>(98.799, 99.856]</td>\n",
       "    </tr>\n",
       "  </tbody>\n",
       "</table>\n",
       "</div>"
      ],
      "text/plain": [
       "   Close_ETF       oil      gold       JPM           n20bins\n",
       "0  97.349998  0.039242  0.004668  0.032258  (96.419, 98.799]\n",
       "1  97.750000  0.001953 -0.001366 -0.002948  (96.419, 98.799]\n",
       "2  99.160004 -0.031514 -0.007937  0.025724  (98.799, 99.856]\n",
       "3  99.650002  0.034552  0.014621  0.011819  (98.799, 99.856]\n",
       "4  99.260002  0.013619 -0.011419  0.000855  (98.799, 99.856]"
      ]
     },
     "execution_count": 38,
     "metadata": {},
     "output_type": "execute_result"
    }
   ],
   "source": [
    "project_data['n20bins']=pd.qcut(project_data['Close_ETF'], q=50)\n",
    "project_data.head()"
   ]
  },
  {
   "cell_type": "code",
   "execution_count": 42,
   "id": "e184053b-d0ae-4930-b0a0-f0f4b6fbacad",
   "metadata": {},
   "outputs": [
    {
     "data": {
      "text/plain": [
       "n20bins\n",
       "(96.419, 98.799]       98.050000\n",
       "(98.799, 99.856]       99.367501\n",
       "(99.856, 100.769]     100.287500\n",
       "(100.769, 103.322]    101.928001\n",
       "(103.322, 104.597]    103.781500\n",
       "(104.597, 105.972]    105.211500\n",
       "(105.972, 107.884]    106.854500\n",
       "(107.884, 109.645]    108.826001\n",
       "(109.645, 110.208]    109.869999\n",
       "(110.208, 111.068]    110.654999\n",
       "(111.068, 111.548]    111.280000\n",
       "(111.548, 112.354]    111.890500\n",
       "(112.354, 112.86]     112.628096\n",
       "(112.86, 113.2]       113.030500\n",
       "(113.2, 113.777]      113.451053\n",
       "(113.777, 114.244]    113.944500\n",
       "(114.244, 114.783]    114.498500\n",
       "(114.783, 115.65]     115.122381\n",
       "(115.65, 116.6]       116.137500\n",
       "(116.6, 117.43]       117.152500\n",
       "(117.43, 118.096]     117.767368\n",
       "(118.096, 118.6]      118.329048\n",
       "(118.6, 119.205]      118.914738\n",
       "(119.205, 119.516]    119.355001\n",
       "(119.516, 120.15]     119.902857\n",
       "(120.15, 120.68]      120.412500\n",
       "(120.68, 121.194]     120.957368\n",
       "(121.194, 121.716]    121.414500\n",
       "(121.716, 122.515]    122.244000\n",
       "(122.515, 123.334]    122.912000\n",
       "(123.334, 123.801]    123.563999\n",
       "(123.801, 124.779]    124.277000\n",
       "(124.779, 126.037]    125.519001\n",
       "(126.037, 126.586]    126.273500\n",
       "(126.586, 127.016]    126.762001\n",
       "(127.016, 127.503]    127.281500\n",
       "(127.503, 128.398]    128.032500\n",
       "(128.398, 129.019]    128.686000\n",
       "(129.019, 129.802]    129.460000\n",
       "(129.802, 130.52]     130.198499\n",
       "(130.52, 131.387]     130.893499\n",
       "(131.387, 133.58]     132.313809\n",
       "(133.58, 137.367]     135.891578\n",
       "(137.367, 139.474]    138.411501\n",
       "(139.474, 140.921]    140.317499\n",
       "(140.921, 141.904]    141.466999\n",
       "(141.904, 142.964]    142.362501\n",
       "(142.964, 144.666]    143.815501\n",
       "(144.666, 148.123]    146.003500\n",
       "(148.123, 152.62]     150.375499\n",
       "Name: Close_ETF, dtype: float64"
      ]
     },
     "execution_count": 42,
     "metadata": {},
     "output_type": "execute_result"
    }
   ],
   "source": [
    "y = project_data.groupby('n20bins').mean()['Close_ETF']\n",
    "y"
   ]
  },
  {
   "cell_type": "code",
   "execution_count": 50,
   "id": "e070484f-a37a-4757-ad97-453b5fa01d72",
   "metadata": {},
   "outputs": [
    {
     "data": {
      "text/plain": [
       "<AxesSubplot:ylabel='Frequency'>"
      ]
     },
     "execution_count": 50,
     "metadata": {},
     "output_type": "execute_result"
    },
    {
     "data": {
      "image/png": "[encoded data removed]",
      "text/plain": [
       "<Figure size 432x288 with 1 Axes>"
      ]
     },
     "metadata": {
      "needs_background": "light"
     },
     "output_type": "display_data"
    }
   ],
   "source": [
    "y.plot.hist(bins=15)"
   ]
  },
  {
   "cell_type": "markdown",
   "id": "d4254a2b-dcd4-49d6-a39c-f60450d7ef61",
   "metadata": {},
   "source": [
    "### from visual inspection not very normal"
   ]
  },
  {
   "cell_type": "code",
   "execution_count": 51,
   "id": "e0fc5b6e-eab5-4f3a-8d16-08b5c0a523f4",
   "metadata": {},
   "outputs": [
    {
     "data": {
      "text/plain": [
       "121.16164592586216"
      ]
     },
     "execution_count": 51,
     "metadata": {},
     "output_type": "execute_result"
    }
   ],
   "source": [
    "y.mean()"
   ]
  },
  {
   "cell_type": "code",
   "execution_count": 52,
   "id": "23d6975c-bdbd-43f5-a1d0-4c0f0deb40f2",
   "metadata": {},
   "outputs": [
    {
     "data": {
      "text/plain": [
       "12.686566498035301"
      ]
     },
     "execution_count": 52,
     "metadata": {},
     "output_type": "execute_result"
    }
   ],
   "source": [
    "y.std()"
   ]
  },
  {
   "cell_type": "code",
   "execution_count": 57,
   "id": "f6ffe41c-3dc3-48b8-8106-c051e369693b",
   "metadata": {},
   "outputs": [
    {
     "data": {
      "text/plain": [
       "121.1529600120001"
      ]
     },
     "execution_count": 57,
     "metadata": {},
     "output_type": "execute_result"
    }
   ],
   "source": [
    "x.mean()"
   ]
  },
  {
   "cell_type": "code",
   "execution_count": 58,
   "id": "ff7301a9-a34f-4e0b-8715-90eb7e128807",
   "metadata": {},
   "outputs": [
    {
     "data": {
      "text/plain": [
       "12.569790313110744"
      ]
     },
     "execution_count": 58,
     "metadata": {},
     "output_type": "execute_result"
    }
   ],
   "source": [
    "x.std()"
   ]
  },
  {
   "cell_type": "markdown",
   "id": "b679037f-382c-4261-971c-833a1ca9042f",
   "metadata": {},
   "source": [
    "### 10 groups of 100"
   ]
  },
  {
   "cell_type": "code",
   "execution_count": 59,
   "id": "c9bce184-feb4-4a9e-9203-d8d85ef8bbd7",
   "metadata": {},
   "outputs": [
    {
     "data": {
      "text/html": [
       "<div>\n",
       "<style scoped>\n",
       "    .dataframe tbody tr th:only-of-type {\n",
       "        vertical-align: middle;\n",
       "    }\n",
       "\n",
       "    .dataframe tbody tr th {\n",
       "        vertical-align: top;\n",
       "    }\n",
       "\n",
       "    .dataframe thead th {\n",
       "        text-align: right;\n",
       "    }\n",
       "</style>\n",
       "<table border=\"1\" class=\"dataframe\">\n",
       "  <thead>\n",
       "    <tr style=\"text-align: right;\">\n",
       "      <th></th>\n",
       "      <th>Close_ETF</th>\n",
       "      <th>oil</th>\n",
       "      <th>gold</th>\n",
       "      <th>JPM</th>\n",
       "      <th>n20bins</th>\n",
       "      <th>n100bins</th>\n",
       "    </tr>\n",
       "  </thead>\n",
       "  <tbody>\n",
       "    <tr>\n",
       "      <th>0</th>\n",
       "      <td>97.349998</td>\n",
       "      <td>0.039242</td>\n",
       "      <td>0.004668</td>\n",
       "      <td>0.032258</td>\n",
       "      <td>(96.419, 98.799]</td>\n",
       "      <td>(96.419, 104.597]</td>\n",
       "    </tr>\n",
       "    <tr>\n",
       "      <th>1</th>\n",
       "      <td>97.750000</td>\n",
       "      <td>0.001953</td>\n",
       "      <td>-0.001366</td>\n",
       "      <td>-0.002948</td>\n",
       "      <td>(96.419, 98.799]</td>\n",
       "      <td>(96.419, 104.597]</td>\n",
       "    </tr>\n",
       "    <tr>\n",
       "      <th>2</th>\n",
       "      <td>99.160004</td>\n",
       "      <td>-0.031514</td>\n",
       "      <td>-0.007937</td>\n",
       "      <td>0.025724</td>\n",
       "      <td>(98.799, 99.856]</td>\n",
       "      <td>(96.419, 104.597]</td>\n",
       "    </tr>\n",
       "    <tr>\n",
       "      <th>3</th>\n",
       "      <td>99.650002</td>\n",
       "      <td>0.034552</td>\n",
       "      <td>0.014621</td>\n",
       "      <td>0.011819</td>\n",
       "      <td>(98.799, 99.856]</td>\n",
       "      <td>(96.419, 104.597]</td>\n",
       "    </tr>\n",
       "    <tr>\n",
       "      <th>4</th>\n",
       "      <td>99.260002</td>\n",
       "      <td>0.013619</td>\n",
       "      <td>-0.011419</td>\n",
       "      <td>0.000855</td>\n",
       "      <td>(98.799, 99.856]</td>\n",
       "      <td>(96.419, 104.597]</td>\n",
       "    </tr>\n",
       "  </tbody>\n",
       "</table>\n",
       "</div>"
      ],
      "text/plain": [
       "   Close_ETF       oil      gold       JPM           n20bins  \\\n",
       "0  97.349998  0.039242  0.004668  0.032258  (96.419, 98.799]   \n",
       "1  97.750000  0.001953 -0.001366 -0.002948  (96.419, 98.799]   \n",
       "2  99.160004 -0.031514 -0.007937  0.025724  (98.799, 99.856]   \n",
       "3  99.650002  0.034552  0.014621  0.011819  (98.799, 99.856]   \n",
       "4  99.260002  0.013619 -0.011419  0.000855  (98.799, 99.856]   \n",
       "\n",
       "            n100bins  \n",
       "0  (96.419, 104.597]  \n",
       "1  (96.419, 104.597]  \n",
       "2  (96.419, 104.597]  \n",
       "3  (96.419, 104.597]  \n",
       "4  (96.419, 104.597]  "
      ]
     },
     "execution_count": 59,
     "metadata": {},
     "output_type": "execute_result"
    }
   ],
   "source": [
    "project_data['n100bins'] = pd.qcut(project_data['Close_ETF'], q=10)\n",
    "project_data.head()"
   ]
  },
  {
   "cell_type": "code",
   "execution_count": 60,
   "id": "ef48f7f3-9b03-4190-a954-f6df375cdd93",
   "metadata": {},
   "outputs": [],
   "source": [
    "z=project_data.groupby('n100bins').mean()['Close_ETF']"
   ]
  },
  {
   "cell_type": "code",
   "execution_count": 160,
   "id": "f0950765-b665-4ce7-bdcd-244daee4669d",
   "metadata": {},
   "outputs": [
    {
     "data": {
      "text/plain": [
       "<AxesSubplot:ylabel='Frequency'>"
      ]
     },
     "execution_count": 160,
     "metadata": {},
     "output_type": "execute_result"
    },
    {
     "data": {
      "image/png": "[encoded data removed]",
      "text/plain": [
       "<Figure size 432x288 with 1 Axes>"
      ]
     },
     "metadata": {
      "needs_background": "light"
     },
     "output_type": "display_data"
    }
   ],
   "source": [
    "z.plot.hist(bins=5)"
   ]
  },
  {
   "cell_type": "markdown",
   "id": "abc733bb-30b0-4bad-aeee-bf80cab43d09",
   "metadata": {},
   "source": [
    "### bit more normal but not by much"
   ]
  },
  {
   "cell_type": "code",
   "execution_count": 64,
   "id": "5fc27393-2de2-4cad-9693-7cbc692ba470",
   "metadata": {},
   "outputs": [
    {
     "data": {
      "text/plain": [
       "121.15918584274345"
      ]
     },
     "execution_count": 64,
     "metadata": {},
     "output_type": "execute_result"
    }
   ],
   "source": [
    "z.mean()"
   ]
  },
  {
   "cell_type": "code",
   "execution_count": 65,
   "id": "782b94cc-a4ad-4433-a789-0282261389b1",
   "metadata": {},
   "outputs": [
    {
     "data": {
      "text/plain": [
       "121.1529600120001"
      ]
     },
     "execution_count": 65,
     "metadata": {},
     "output_type": "execute_result"
    }
   ],
   "source": [
    "x.mean()"
   ]
  },
  {
   "cell_type": "code",
   "execution_count": 66,
   "id": "f50e0492-fd3b-4aa5-a94c-dd174d541a96",
   "metadata": {},
   "outputs": [
    {
     "data": {
      "text/plain": [
       "13.080360155986197"
      ]
     },
     "execution_count": 66,
     "metadata": {},
     "output_type": "execute_result"
    }
   ],
   "source": [
    "z.std()"
   ]
  },
  {
   "cell_type": "code",
   "execution_count": 67,
   "id": "2a1b887e-5965-4631-a3f4-8c20cfb622d8",
   "metadata": {},
   "outputs": [
    {
     "data": {
      "text/plain": [
       "12.569790313110744"
      ]
     },
     "execution_count": 67,
     "metadata": {},
     "output_type": "execute_result"
    }
   ],
   "source": [
    "x.std()"
   ]
  },
  {
   "cell_type": "markdown",
   "id": "d00eaa5b-2625-4f9e-862f-fc9e9dde155a",
   "metadata": {},
   "source": [
    "### 50 random samples (with replacement) groups of 20"
   ]
  },
  {
   "cell_type": "code",
   "execution_count": 127,
   "id": "f06486b4-f661-4de9-8d00-6830b7debc61",
   "metadata": {},
   "outputs": [],
   "source": [
    "randsamp20 = []\n",
    "for i in range(50):\n",
    "    randsamp20.append(pd.Series(project_data['Close_ETF'].sample(n=20, replace=True)))"
   ]
  },
  {
   "cell_type": "code",
   "execution_count": 134,
   "id": "5f2746ab-b44b-41ed-89fd-bffeb0666d65",
   "metadata": {},
   "outputs": [],
   "source": [
    "randsamp20means = []\n",
    "for i in range(50):\n",
    "    randsamp20means.append(randsamp20[i].mean())"
   ]
  },
  {
   "cell_type": "code",
   "execution_count": 141,
   "id": "5f3cd810-71d5-4254-903d-bcca6a388999",
   "metadata": {},
   "outputs": [
    {
     "data": {
      "text/plain": [
       "<AxesSubplot:ylabel='Frequency'>"
      ]
     },
     "execution_count": 141,
     "metadata": {},
     "output_type": "execute_result"
    },
    {
     "data": {
      "image/png": "[encoded data removed]",
      "text/plain": [
       "<Figure size 432x288 with 1 Axes>"
      ]
     },
     "metadata": {
      "needs_background": "light"
     },
     "output_type": "display_data"
    }
   ],
   "source": [
    "a = pd.Series(randsamp20means, dtype=float)\n",
    "a.plot.hist(bins=15)"
   ]
  },
  {
   "cell_type": "markdown",
   "id": "fbc4b80d-6ffa-46d8-938c-ac3fa8d132a7",
   "metadata": {},
   "source": [
    "### Much more normal looking "
   ]
  },
  {
   "cell_type": "code",
   "execution_count": 142,
   "id": "f0fa0c5c-921f-42cc-a6b3-a984adafdcb6",
   "metadata": {},
   "outputs": [
    {
     "data": {
      "text/plain": [
       "120.75898000600002"
      ]
     },
     "execution_count": 142,
     "metadata": {},
     "output_type": "execute_result"
    }
   ],
   "source": [
    "a.mean()"
   ]
  },
  {
   "cell_type": "code",
   "execution_count": 144,
   "id": "c174df42-ba10-4f34-bf23-1128268099e8",
   "metadata": {},
   "outputs": [
    {
     "data": {
      "text/plain": [
       "2.5719267464122653"
      ]
     },
     "execution_count": 144,
     "metadata": {},
     "output_type": "execute_result"
    }
   ],
   "source": [
    "a.std()"
   ]
  },
  {
   "cell_type": "markdown",
   "id": "9d243acf-3d2c-4220-9270-be8d1ce7a84b",
   "metadata": {},
   "source": [
    "### 10 groups of 100"
   ]
  },
  {
   "cell_type": "code",
   "execution_count": 145,
   "id": "f53bc148-136e-4b17-8d93-75eaf709915f",
   "metadata": {},
   "outputs": [],
   "source": [
    "randsamp100 = []\n",
    "for i in range(10):\n",
    "    randsamp100.append(pd.Series(project_data['Close_ETF'].sample(n=100, replace=True)))"
   ]
  },
  {
   "cell_type": "code",
   "execution_count": 150,
   "id": "363ea930-2e3b-402c-a8ad-1838431834ff",
   "metadata": {},
   "outputs": [],
   "source": [
    "randsamp100means = []\n",
    "for i in range(10):\n",
    "    randsamp100means.append(randsamp100[i].mean())"
   ]
  },
  {
   "cell_type": "code",
   "execution_count": 156,
   "id": "07b37f1e-b5a3-46d9-a3ee-14da04dccf56",
   "metadata": {},
   "outputs": [
    {
     "data": {
      "text/plain": [
       "<AxesSubplot:ylabel='Frequency'>"
      ]
     },
     "execution_count": 156,
     "metadata": {},
     "output_type": "execute_result"
    },
    {
     "data": {
      "image/png": "[encoded data removed]",
      "text/plain": [
       "<Figure size 432x288 with 1 Axes>"
      ]
     },
     "metadata": {
      "needs_background": "light"
     },
     "output_type": "display_data"
    }
   ],
   "source": [
    "b = pd.Series(randsamp100means, dtype=float)\n",
    "b.plot.hist(bins=5)"
   ]
  },
  {
   "cell_type": "markdown",
   "id": "24f27bdb-7c26-4e98-9e10-5231d99c9252",
   "metadata": {},
   "source": [
    "### too few bins to judge normality"
   ]
  },
  {
   "cell_type": "code",
   "execution_count": 157,
   "id": "c39a38ff-afd7-4c04-ac29-a0c8a078d021",
   "metadata": {},
   "outputs": [
    {
     "data": {
      "text/plain": [
       "121.337590058"
      ]
     },
     "execution_count": 157,
     "metadata": {},
     "output_type": "execute_result"
    }
   ],
   "source": [
    "b.mean()"
   ]
  },
  {
   "cell_type": "code",
   "execution_count": 158,
   "id": "b8db4241-0ed9-4122-8acf-a6483307f00e",
   "metadata": {},
   "outputs": [
    {
     "data": {
      "text/plain": [
       "0.8072484456404834"
      ]
     },
     "execution_count": 158,
     "metadata": {},
     "output_type": "execute_result"
    }
   ],
   "source": [
    "b.std()"
   ]
  }
 ],
 "metadata": {
  "kernelspec": {
   "display_name": "Python 3",
   "language": "python",
   "name": "python3"
  },
  "language_info": {
   "codemirror_mode": {
    "name": "ipython",
    "version": 3
   },
   "file_extension": ".py",
   "mimetype": "text/x-python",
   "name": "python",
   "nbconvert_exporter": "python",
   "pygments_lexer": "ipython3",
   "version": "3.8.8"
  }
 },
 "nbformat": 4,
 "nbformat_minor": 5
}
