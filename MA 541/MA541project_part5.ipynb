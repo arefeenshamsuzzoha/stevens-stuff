{
 "cells": [
  {
   "cell_type": "code",
   "execution_count": 1,
   "id": "25d234a2-9aee-4845-9bb1-5cdeb20bc25b",
   "metadata": {},
   "outputs": [],
   "source": [
    "import pandas as pd\n",
    "import scipy.stats as st"
   ]
  },
  {
   "cell_type": "code",
   "execution_count": 2,
   "id": "40f30cfa-4549-4790-9471-9b277273079a",
   "metadata": {},
   "outputs": [],
   "source": [
    "project_data = pd.read_csv('data.csv')"
   ]
  },
  {
   "cell_type": "code",
   "execution_count": 3,
   "id": "8b742e62-1d85-46d7-a3f4-640f892947d1",
   "metadata": {},
   "outputs": [],
   "source": [
    "x = project_data[\"Close_ETF\"]"
   ]
  },
  {
   "cell_type": "code",
   "execution_count": 12,
   "id": "b41b5ff7-eedc-46fa-9462-e44cc4b31df0",
   "metadata": {},
   "outputs": [],
   "source": [
    "sample_100 = pd.Series(x.sample(n=100, replace=True))"
   ]
  },
  {
   "cell_type": "code",
   "execution_count": 13,
   "id": "95943bba-b424-4ae5-944d-c657e1fb6b54",
   "metadata": {},
   "outputs": [
    {
     "data": {
      "text/plain": [
       "(96.98020111253993, 145.42019780746014)"
      ]
     },
     "execution_count": 13,
     "metadata": {},
     "output_type": "execute_result"
    }
   ],
   "source": [
    "st.norm.interval(alpha=0.95, loc=sample_100.mean(), scale=sample_100.std())"
   ]
  },
  {
   "cell_type": "code",
   "execution_count": 14,
   "id": "25549291-fb23-4ce2-97c3-86b74177531e",
   "metadata": {},
   "outputs": [],
   "source": [
    "sample_50 = pd.Series(x.sample(n=20, replace=True))"
   ]
  },
  {
   "cell_type": "code",
   "execution_count": 17,
   "id": "b0eefb91-754d-45d9-8256-8ce05a578a43",
   "metadata": {},
   "outputs": [
    {
     "data": {
      "text/plain": [
       "(102.90955426948001, 146.66144463051998)"
      ]
     },
     "execution_count": 17,
     "metadata": {},
     "output_type": "execute_result"
    }
   ],
   "source": [
    "st.t.interval(alpha=0.95, df = len(sample_50)-1, loc=sample_50.mean(), scale=sample_50.std())"
   ]
  },
  {
   "cell_type": "code",
   "execution_count": 19,
   "id": "2e5f800d-3251-45d2-a74c-2df6f0e057a1",
   "metadata": {},
   "outputs": [
    {
     "data": {
      "text/plain": [
       "121.1529600120001"
      ]
     },
     "execution_count": 19,
     "metadata": {},
     "output_type": "execute_result"
    }
   ],
   "source": [
    "pop_means = x.mean()\n",
    "pop_means"
   ]
  },
  {
   "cell_type": "markdown",
   "id": "fb288c27-ffc7-40ac-b56e-fb62ba1daeaa",
   "metadata": {},
   "source": [
    "The confidence intervals include the population mean. I'm not sure what this means."
   ]
  }
 ],
 "metadata": {
  "kernelspec": {
   "display_name": "Python 3",
   "language": "python",
   "name": "python3"
  },
  "language_info": {
   "codemirror_mode": {
    "name": "ipython",
    "version": 3
   },
   "file_extension": ".py",
   "mimetype": "text/x-python",
   "name": "python",
   "nbconvert_exporter": "python",
   "pygments_lexer": "ipython3",
   "version": "3.8.8"
  }
 },
 "nbformat": 4,
 "nbformat_minor": 5
}
