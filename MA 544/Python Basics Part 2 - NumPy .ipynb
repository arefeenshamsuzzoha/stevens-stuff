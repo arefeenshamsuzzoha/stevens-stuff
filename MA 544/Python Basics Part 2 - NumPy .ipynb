{
 "cells": [
  {
   "cell_type": "markdown",
   "metadata": {},
   "source": [
    "# Python Part 2 - NumPy\n",
    "\n",
    "<img src=\"./images/Python.png\" width=60%/>\n",
    "\n",
    "***\n",
    "-  Vectors, Matrices and Tensors in NumPy\n",
    "-  Operations on Vectors and Matrices"
   ]
  },
  {
   "cell_type": "code",
   "execution_count": 1,
   "metadata": {},
   "outputs": [],
   "source": [
    "#IMPORT\n",
    "import numpy as np\n",
    "import matplotlib.pyplot as plt\n",
    "\n",
    "%matplotlib inline"
   ]
  },
  {
   "cell_type": "markdown",
   "metadata": {},
   "source": [
    "#### Creating vectors and matrices\n",
    "***\n",
    "-  Vectors and Matrices having given elements\n",
    "-  Random Vectors and Matrices\n",
    "-  Reshaping vectors to get matrices\n",
    "-  Zero matrix\n",
    "-  Matrix of all ones\n",
    "-  Identity matrix\n"
   ]
  },
  {
   "cell_type": "code",
   "execution_count": 2,
   "metadata": {},
   "outputs": [
    {
     "name": "stdout",
     "output_type": "stream",
     "text": [
      "v1: [1 2 3 4]\n",
      "v2:\n",
      "[ 3  2  1 -1]\n"
     ]
    }
   ],
   "source": [
    "## Create a vector of first few numbers of length 4\n",
    "v1 =  np.array([1,2,3,4])\n",
    "\n",
    "## Create a vector of length 4\n",
    "v2 = np.array([3, 2,1,-1])\n",
    "\n",
    "print(\"v1:\", v1)\n",
    "print (\"v2:\")\n",
    "print (v2)"
   ]
  },
  {
   "cell_type": "code",
   "execution_count": 3,
   "metadata": {},
   "outputs": [
    {
     "name": "stdout",
     "output_type": "stream",
     "text": [
      "[ 75 134 130   3]\n"
     ]
    }
   ],
   "source": [
    "# Create a random vector of Integers\n",
    "\n",
    "## Set a seed for the random number generator\n",
    "np.random.seed(12)\n",
    "v3 = np.random.randint(0, high=150, size=(4,))\n",
    "print(v3)"
   ]
  },
  {
   "cell_type": "code",
   "execution_count": 4,
   "metadata": {},
   "outputs": [
    {
     "name": "stdout",
     "output_type": "stream",
     "text": [
      "[[3]\n",
      " [4]\n",
      " [0]\n",
      " [6]]\n"
     ]
    }
   ],
   "source": [
    "# Create a random COLUMN vector of Integers\n",
    "v31 = np.random.randint(0, high=8, size=(4,1))\n",
    "print( v31)"
   ]
  },
  {
   "cell_type": "code",
   "execution_count": 5,
   "metadata": {},
   "outputs": [
    {
     "name": "stdout",
     "output_type": "stream",
     "text": [
      "[5. 6. 7. 8.]\n"
     ]
    }
   ],
   "source": [
    "# Create a  vector of Integers ranging from 5 to 9\n",
    "#v4 = np.array(range(5,9)) or\n",
    "v4 = np.arange(5,9, dtype='float')\n",
    "print (v4)"
   ]
  },
  {
   "cell_type": "code",
   "execution_count": 7,
   "metadata": {},
   "outputs": [
    {
     "name": "stdout",
     "output_type": "stream",
     "text": [
      "\n",
      " A= \n",
      " [[1. 2. 3.]\n",
      " [2. 1. 4.]\n",
      " [2. 4. 7.]\n",
      " [1. 2. 3.]]\n",
      "\n",
      " A1= \n",
      " [[1 2 3]\n",
      " [2 1 4]\n",
      " [2 4 7]\n",
      " [1 2 3]]\n"
     ]
    }
   ],
   "source": [
    "## Create a matrix of order 4x3 having the givenelements\n",
    "A = np.array([[1, 2, 3],\n",
    "              [2, 1, 4],\n",
    "              [2, 4, 7],\n",
    "              [1, 2, 3]], dtype=float)\n",
    "\n",
    "# Following is not used/advised anymore\n",
    "A1 = np.matrix([[1, 2, 3],\n",
    "              [2, 1, 4],\n",
    "              [2, 4, 7],\n",
    "              [1, 2, 3]])\n",
    "print(\"\\n A= \\n\",A)\n",
    "print(\"\\n A1= \\n\",A1)"
   ]
  },
  {
   "cell_type": "code",
   "execution_count": 8,
   "metadata": {},
   "outputs": [
    {
     "name": "stdout",
     "output_type": "stream",
     "text": [
      "The random matrix B is\n",
      "[[0.03396417 0.29543683 0.08252441]\n",
      " [0.72595416 0.37283446 0.67599758]\n",
      " [0.98364716 0.48153021 0.91253883]\n",
      " [0.18987634 0.14797388 0.90726736]]\n"
     ]
    }
   ],
   "source": [
    "## Create a random matrix of order 4x3 whose elements are chosen uniformly randomly \n",
    "\n",
    "## CHANGES NEEDED WITH Python 3.x for compatibilty\n",
    "B = np.random.rand(4,3)\n",
    "print(\"The random matrix B is\")\n",
    "print (B)"
   ]
  },
  {
   "cell_type": "code",
   "execution_count": 9,
   "metadata": {},
   "outputs": [
    {
     "name": "stdout",
     "output_type": "stream",
     "text": [
      "The 4x3 zero matrix is\n",
      "[[0. 0. 0.]\n",
      " [0. 0. 0.]\n",
      " [0. 0. 0.]\n",
      " [0. 0. 0.]]\n"
     ]
    }
   ],
   "source": [
    "## Create a matrix of order 4x3 made of all zeros \n",
    "zero_mat_43 = np.zeros((4,3), dtype=float)\n",
    "print(\"The 4x3 zero matrix is\")\n",
    "print (zero_mat_43)"
   ]
  },
  {
   "cell_type": "code",
   "execution_count": 10,
   "metadata": {},
   "outputs": [
    {
     "name": "stdout",
     "output_type": "stream",
     "text": [
      "The 3x5 one matrix is\n",
      "[[1. 1. 1. 1. 1.]\n",
      " [1. 1. 1. 1. 1.]\n",
      " [1. 1. 1. 1. 1.]]\n"
     ]
    }
   ],
   "source": [
    "## Create a matrix of all ones of order 3x5\n",
    "ones_mat_35 = np.ones((3,5), dtype=float)\n",
    "print(\"The 3x5 one matrix is\")\n",
    "print (ones_mat_35)"
   ]
  },
  {
   "cell_type": "code",
   "execution_count": 11,
   "metadata": {},
   "outputs": [
    {
     "name": "stdout",
     "output_type": "stream",
     "text": [
      "The 4x6 diagonal matrix of ones\n",
      "[[1. 0. 0. 0. 0. 0.]\n",
      " [0. 1. 0. 0. 0. 0.]\n",
      " [0. 0. 1. 0. 0. 0.]\n",
      " [0. 0. 0. 1. 0. 0.]]\n",
      "\n",
      " The 4x4 identity matrix i.e., diagonal matrix of ones\n",
      "[[1. 0. 0. 0.]\n",
      " [0. 1. 0. 0.]\n",
      " [0. 0. 1. 0.]\n",
      " [0. 0. 0. 1.]]\n"
     ]
    }
   ],
   "source": [
    "## Create an identity matrix of order 4x4 (i.e a square matrix)\n",
    "eye_46 = np.eye(4,6)\n",
    "eye_4 = np.identity(4)\n",
    "print(\"The 4x6 diagonal matrix of ones\")\n",
    "print (eye_46)\n",
    "\n",
    "print(\"\\n The 4x4 identity matrix i.e., diagonal matrix of ones\")\n",
    "print (eye_4)"
   ]
  },
  {
   "cell_type": "code",
   "execution_count": 12,
   "metadata": {},
   "outputs": [
    {
     "name": "stdout",
     "output_type": "stream",
     "text": [
      "A vector of 12 elements:\n",
      " [ 3  5  7  9 11 13 15 17 19 21 23 25]\n",
      "\n",
      " Reshaping a vector of 12 elements into a matrix:\n",
      " [[ 3  5  7]\n",
      " [ 9 11 13]\n",
      " [15 17 19]\n",
      " [21 23 25]]\n"
     ]
    }
   ],
   "source": [
    "## Create a vector of order 12 (such as [3,5,7,...])and \n",
    "##rearrange its elements to create a matrix of order 4-by-3.\n",
    "v12 = np.arange(3,26,2)\n",
    "print (\"A vector of 12 elements:\\n\",v12)\n",
    "\n",
    "A43 = v12.reshape(4,3) # or v12.reshape(4,-1), or v12.reshape(-1,3)\n",
    "print (\"\\n Reshaping a vector of 12 elements into a matrix:\\n\",A43)"
   ]
  },
  {
   "cell_type": "code",
   "execution_count": 13,
   "metadata": {},
   "outputs": [
    {
     "ename": "ValueError",
     "evalue": "cannot reshape array of size 12 into shape (5,newaxis)",
     "output_type": "error",
     "traceback": [
      "\u001b[0;31m---------------------------------------------------------------------------\u001b[0m",
      "\u001b[0;31mValueError\u001b[0m                                Traceback (most recent call last)",
      "\u001b[0;32m/var/folders/j8/n1k26lsx2b5__nzr4pr131xr0000gn/T/ipykernel_88031/1863229974.py\u001b[0m in \u001b[0;36m<module>\u001b[0;34m\u001b[0m\n\u001b[1;32m      1\u001b[0m \u001b[0;31m# Can we do the following?\u001b[0m\u001b[0;34m\u001b[0m\u001b[0;34m\u001b[0m\u001b[0m\n\u001b[0;32m----> 2\u001b[0;31m \u001b[0mA5\u001b[0m \u001b[0;34m=\u001b[0m \u001b[0mv12\u001b[0m\u001b[0;34m.\u001b[0m\u001b[0mreshape\u001b[0m\u001b[0;34m(\u001b[0m\u001b[0;36m5\u001b[0m\u001b[0;34m,\u001b[0m\u001b[0;34m-\u001b[0m\u001b[0;36m1\u001b[0m\u001b[0;34m)\u001b[0m\u001b[0;34m\u001b[0m\u001b[0;34m\u001b[0m\u001b[0m\n\u001b[0m",
      "\u001b[0;31mValueError\u001b[0m: cannot reshape array of size 12 into shape (5,newaxis)"
     ]
    }
   ],
   "source": [
    "# Can we do the following?\n",
    "A5 = v12.reshape(5,-1)"
   ]
  },
  {
   "cell_type": "markdown",
   "metadata": {},
   "source": [
    "#### Know your matrix"
   ]
  },
  {
   "cell_type": "code",
   "execution_count": 14,
   "metadata": {},
   "outputs": [
    {
     "name": "stdout",
     "output_type": "stream",
     "text": [
      "A= [[1. 2. 3.]\n",
      " [2. 1. 4.]\n",
      " [2. 4. 7.]\n",
      " [1. 2. 3.]]\n",
      "\n",
      " order of matrix A is:  (4, 3)\n",
      "v1= [1 2 3 4]\n",
      "\n",
      " Order of the vector v1 is:  (4,)\n",
      "\n",
      " len(A) gives  4\n",
      "\n",
      " type(A) gives  <class 'numpy.ndarray'>\n",
      "<class 'str'>\n"
     ]
    }
   ],
   "source": [
    "# What is the shape of the matrix\n",
    "print(\"A=\",A)\n",
    "print (\"\\n order of matrix A is: \",A.shape)\n",
    "print(\"v1=\",v1)\n",
    "print (\"\\n Order of the vector v1 is: \", v1.shape)\n",
    "print (\"\\n len(A) gives \",len(A))\n",
    "print (\"\\n type(A) gives \",type(A))\n",
    "# type(var_name) gives the type/class etc.\n",
    "print (type(\"Hello\"))"
   ]
  },
  {
   "cell_type": "markdown",
   "metadata": {},
   "source": [
    "### Operations on vectors and matrices\n",
    "***\n",
    "-  Addition/subtraction\n",
    "-  Elementwise multiplication\n",
    "-  Dot product"
   ]
  },
  {
   "cell_type": "code",
   "execution_count": 15,
   "metadata": {},
   "outputs": [
    {
     "name": "stdout",
     "output_type": "stream",
     "text": [
      "v1= [1 2 3 4]\n",
      "v2= [ 3  2  1 -1]\n",
      "\n",
      " The sum of the vectors is: \n",
      "[4 4 4 3]\n",
      "\n",
      " The elementwise product of the vectors is: \n",
      "[ 3  4  3 -4]\n",
      "\n",
      " The dot product of the vectors is a number =  6\n"
     ]
    }
   ],
   "source": [
    "## Add the two vectors above\n",
    "v3 = v1 + v2\n",
    "## np.add(v1,v2)\n",
    "\n",
    "print (\"v1=\", v1)\n",
    "print( \"v2=\", v2)\n",
    "print(\"\\n The sum of the vectors is: \")\n",
    "print (v3)\n",
    "print(\"\\n The elementwise product of the vectors is: \")\n",
    "## Multiply the two vectors of same order(find element wise product)\n",
    "v4=v1*v2\n",
    "print (v4)\n",
    "\n",
    "#Dot product of two vectors gives a number\n",
    "dotp = np.dot(v1,v2)\n",
    "\n",
    "print(\"\\n The dot product of the vectors is a number = \",dotp)\n"
   ]
  },
  {
   "cell_type": "code",
   "execution_count": 16,
   "metadata": {},
   "outputs": [
    {
     "name": "stdout",
     "output_type": "stream",
     "text": [
      "Matrix A from above \n",
      " [[1. 2. 3.]\n",
      " [2. 1. 4.]\n",
      " [2. 4. 7.]\n",
      " [1. 2. 3.]]\n",
      "\n",
      " Matrix B from above\n",
      "  [[0.03396417 0.29543683 0.08252441]\n",
      " [0.72595416 0.37283446 0.67599758]\n",
      " [0.98364716 0.48153021 0.91253883]\n",
      " [0.18987634 0.14797388 0.90726736]]\n",
      "\n",
      " The sum A+B is:\n",
      "[[1.03396417 2.29543683 3.08252441]\n",
      " [2.72595416 1.37283446 4.67599758]\n",
      " [2.98364716 4.48153021 7.91253883]\n",
      " [1.18987634 2.14797388 3.90726736]]\n"
     ]
    }
   ],
   "source": [
    "## Add the two matrices\n",
    "A_plus_B = A + B  #np.add(A,B)\n",
    "print (\"Matrix A from above \\n\",A)\n",
    "print (\"\\n Matrix B from above\\n \",B)\n",
    "print (\"\\n The sum A+B is:\")\n",
    "print (A_plus_B)"
   ]
  },
  {
   "cell_type": "code",
   "execution_count": 17,
   "metadata": {},
   "outputs": [
    {
     "name": "stdout",
     "output_type": "stream",
     "text": [
      "Elementwise product of two matrices of the same dimensions:\n",
      " [[0.03396417 0.59087366 0.24757323]\n",
      " [1.45190832 0.37283446 2.70399033]\n",
      " [1.96729432 1.92612084 6.38777184]\n",
      " [0.18987634 0.29594775 2.72180207]]\n"
     ]
    }
   ],
   "source": [
    "## Can you multiply the two matrices, A and B? How?\n",
    "multAB = A*B\n",
    "print (\"Elementwise product of two matrices of the same dimensions:\\n\",multAB)"
   ]
  },
  {
   "cell_type": "code",
   "execution_count": 18,
   "metadata": {},
   "outputs": [
    {
     "name": "stdout",
     "output_type": "stream",
     "text": [
      "A: ----------------------------\n",
      "[[1. 2. 3.]\n",
      " [2. 1. 4.]\n",
      " [2. 4. 7.]\n",
      " [1. 2. 3.]]\n",
      "\n",
      " C:----------------------\n",
      "[[0 0 0 0 0]\n",
      " [0 0 1 1 1]\n",
      " [1 0 0 0 0]]\n",
      "\n",
      " Product = AC: ----------------------------\n",
      "[[3. 0. 2. 2. 2.]\n",
      " [4. 0. 1. 1. 1.]\n",
      " [7. 0. 4. 4. 4.]\n",
      " [3. 0. 2. 2. 2.]]\n",
      "\n",
      " A: ----------------------------\n",
      "[[1. 2. 3.]\n",
      " [2. 1. 4.]\n",
      " [2. 4. 7.]\n",
      " [1. 2. 3.]]\n",
      "\n",
      " Transpose of A, A.T ------------------\n",
      "[[1. 2. 2. 1.]\n",
      " [2. 1. 4. 2.]\n",
      " [3. 4. 7. 3.]]\n"
     ]
    }
   ],
   "source": [
    "\n",
    "print ('A: ----------------------------')\n",
    "print (A)\n",
    "\n",
    "# A random matrix of integers made of elements 0 or 1\n",
    "C = np.random.randint(0, high=2, size=(3,5))\n",
    "print (\"\\n C:----------------------\")\n",
    "print (C)\n",
    "\n",
    "## MULTIPLICATION (4,3) and (3,4): Find the transpose of B and Multiply to A in appropriate order\n",
    "AC = np.dot(A, C)\n",
    "\n",
    "print ('\\n Product = AC: ----------------------------')\n",
    "print (AC)\n",
    "\n",
    "\n",
    "print ('\\n A: ----------------------------')\n",
    "print (A)\n",
    "\n",
    "print ('\\n Transpose of A, A.T ------------------')\n",
    "print (A.T)"
   ]
  },
  {
   "cell_type": "code",
   "execution_count": 19,
   "metadata": {},
   "outputs": [
    {
     "name": "stdout",
     "output_type": "stream",
     "text": [
      "[[1 0]\n",
      " [0 2]]\n",
      "[[ 1  2  3]\n",
      " [-1  0  1]]\n",
      "[[ 1  2  3]\n",
      " [-2  0  2]]\n"
     ]
    }
   ],
   "source": [
    "# We do not use np.matrix anymore\n",
    "mat1 = np.matrix([[1, 0],[0, 2]])\n",
    "print (mat1)\n",
    "mat2 = np.matrix('1 2 3; -1 0 1')\n",
    "print (mat2)\n",
    "print( mat1*mat2) # no need of np.dot(mat1, mat2)\n"
   ]
  },
  {
   "cell_type": "markdown",
   "metadata": {},
   "source": [
    "### Inverse and generalized inverse\n",
    "***\n",
    "Inverse of square matrix $A$ is denoted by $A^{-1}$. It has the following property:\n",
    "$$ A^{-1} A = A A^{-1} = I$$"
   ]
  },
  {
   "cell_type": "code",
   "execution_count": 21,
   "metadata": {
    "scrolled": true
   },
   "outputs": [
    {
     "name": "stdout",
     "output_type": "stream",
     "text": [
      "A random matrix S \n",
      " [[1. 2. 3.]\n",
      " [2. 1. 4.]\n",
      " [2. 4. 7.]\n",
      " [1. 2. 3.]]\n",
      "\n",
      " Inverse of S \n",
      " [[ 0.21329101 -0.82470804 -1.69371173  3.77928914]\n",
      " [ 0.23591272  2.73748464  0.22935362 -2.89650871]\n",
      " [ 1.92295011 -0.86418343  0.17666782 -1.00654144]\n",
      " [-2.84486336 -0.10674785  3.05600373 -1.21271184]]\n",
      "\n",
      " VERIFY that when you multiply the inverse to the original, you get identity matrix\n",
      "[[ 1. -0. -0. -0.]\n",
      " [ 0.  1.  0.  0.]\n",
      " [ 0.  0.  1.  0.]\n",
      " [-0. -0.  0.  1.]]\n"
     ]
    }
   ],
   "source": [
    "## Find the inverse of a square matrix (k-by-k\n",
    "S = np.random.rand(4,4)\n",
    "print(\"A random matrix S \\n\",A)\n",
    "# Using linear algebra module for finding inverse\n",
    "inv_S = np.linalg.inv(S)\n",
    "print (\"\\n Inverse of S \\n\",inv_S)\n",
    "\n",
    "print (\"\\n VERIFY that when you multiply the inverse to the original, you get identity matrix\")\n",
    "print (np.round(np.dot(inv_S,S),2)) "
   ]
  },
  {
   "cell_type": "code",
   "execution_count": 23,
   "metadata": {},
   "outputs": [
    {
     "name": "stdout",
     "output_type": "stream",
     "text": [
      "\n",
      " Check that the generalized(Perron) inverse, works for rectangular matrix\n",
      "D: ---------------------------- \n",
      " [[0.73312598 0.70262236 0.32756948 0.33464753]\n",
      " [0.97805808 0.62458211 0.95031352 0.76747565]\n",
      " [0.82500925 0.4066403  0.45130841 0.40063163]]\n",
      "\n",
      " pinv_D : ----------------------------\n",
      " [[-0.80877787 -1.53836658  3.74992455]\n",
      " [ 2.75510438  0.40117472 -2.92898773]\n",
      " [-0.72056305  1.57720017 -1.27128138]\n",
      " [-0.31922365  0.98401904 -0.82104855]]\n",
      "\n",
      " pinv_D times D: ----------------------------\n",
      "[[ 1.   -0.   -0.03  0.05]\n",
      " [-0.    1.   -0.04  0.06]\n",
      " [-0.03 -0.04  0.69  0.46]\n",
      " [ 0.05  0.06  0.46  0.32]]\n",
      "\n",
      " D times pinv_D: ----------------------------\n",
      "[[ 1. -0. -0.]\n",
      " [ 0.  1.  0.]\n",
      " [ 0. -0.  1.]]\n"
     ]
    }
   ],
   "source": [
    "print (\"\\n Check that the generalized(Perron) inverse, works for rectangular matrix\")\n",
    "## Generalized (Perron) Inverse\n",
    "D = S[[1,2,3],:] # Submatrix by slicing\n",
    "print ('D: ---------------------------- \\n',D)\n",
    "\n",
    "\n",
    "pinv_D = np.linalg.pinv(D) # Works for non-square matrices too\n",
    "print ('\\n pinv_D : ----------------------------\\n',pinv_D)\n",
    "\n",
    "print ('\\n pinv_D times D: ----------------------------')\n",
    "print (np.round(np.dot(pinv_D,D),2))\n",
    "\n",
    "print ('\\n D times pinv_D: ----------------------------')\n",
    "print (np.round(np.dot(D, pinv_D),2))"
   ]
  },
  {
   "cell_type": "markdown",
   "metadata": {},
   "source": [
    "#### Submatrix of a matrix by SLICING"
   ]
  },
  {
   "cell_type": "code",
   "execution_count": 24,
   "metadata": {},
   "outputs": [
    {
     "name": "stdout",
     "output_type": "stream",
     "text": [
      "A matrix U of order 4 by 5: \n",
      " [[ 1  2  3  4  5]\n",
      " [ 6  7  8  9 10]\n",
      " [11 12 13 14 15]\n",
      " [16 17 18 19 20]]\n",
      "\n",
      " A submatrix is U[:,[1,3]][0:2]: ----------------------------\n",
      " [[2 4]\n",
      " [7 9]]\n",
      "[[2 4]\n",
      " [7 9]]\n",
      "\n",
      " U[:,[1,3]]\n",
      "[[ 2  4]\n",
      " [ 7  9]\n",
      " [12 14]\n",
      " [17 19]]\n",
      "\n",
      " U[:,[1,2]][0:2]\n",
      "[[2 3]\n",
      " [7 8]]\n",
      "\n",
      " U[[1,3],:]\n",
      "[[ 6  7  8  9 10]\n",
      " [16 17 18 19 20]]\n"
     ]
    }
   ],
   "source": [
    "U = np.arange(1,21,1).reshape(4,-1)\n",
    "print (\"A matrix U of order 4 by 5: \\n\",U)\n",
    "E = U[:,[1,3]][0:2] # Submatrix by slicing\n",
    "\n",
    "print ('\\n A submatrix is U[:,[1,3]][0:2]: ----------------------------\\n', E)\n",
    "print (E)\n",
    "\n",
    "print (\"\\n U[:,[1,3]]\")\n",
    "print (U[:,[1,3]])\n",
    "\n",
    "print (\"\\n U[:,[1,2]][0:2]\")\n",
    "print (U[:,[1,2]][0:2])\n",
    "\n",
    "print (\"\\n U[[1,3],:]\")\n",
    "print (U[[1,3],:])"
   ]
  },
  {
   "cell_type": "markdown",
   "metadata": {},
   "source": [
    "### Norm of vectors and matrices\n",
    "***\n",
    "**Frobenius Norm**\n",
    "\\begin{equation} \n",
    "\\| A \\|_F = \\sqrt{ \\sum_i \\sum_j a_{i,j}^2 }\n",
    "\\end{equation}\n",
    "Example1: \n",
    "$$\n",
    "A = \\left( \\begin{array}{cc} 1 & 1 \\\\\n",
    "1 & -1\n",
    "\\end{array}\n",
    "\\right)\n",
    "$$\n",
    "Then $$ \\|A\\|_F = \\sqrt{1^2+1^2 + 1^2+ (-1)^2} = 2$$\n",
    "Example 2: $$v = (1, \\sqrt{2}, -3, 2).$$ Then $$\\|v\\|_2 = \\sqrt{1+2+9+4} = 4$$"
   ]
  },
  {
   "cell_type": "code",
   "execution_count": 25,
   "metadata": {},
   "outputs": [
    {
     "name": "stdout",
     "output_type": "stream",
     "text": [
      "D1 = \n",
      " [[ 1  1]\n",
      " [ 1 -1]]\n",
      "norm of D1 2.0\n",
      "\n",
      " D2 = \n",
      " [[ 1  2 -1]\n",
      " [ 3  4 -6]]\n",
      "norm of D2 8.18535277187245\n"
     ]
    }
   ],
   "source": [
    "# NORM : Euclidean, Frobenius\n",
    "\n",
    "D1 = np.array([[1,1],[1,-1]])\n",
    "print (\"D1 = \\n\", D1)\n",
    "print (\"norm of D1\",np.linalg.norm(D1))\n",
    "\n",
    "D2 = np.array([[1,2, -1],[3,4, -6]])\n",
    "print (\"\\n D2 = \\n\", D2)\n",
    "print (\"norm of D2\",np.linalg.norm(D2,ord='fro'))\n",
    "\n",
    "#print np.linalg.norm(D2, ord=np.inf)"
   ]
  },
  {
   "cell_type": "code",
   "execution_count": 26,
   "metadata": {},
   "outputs": [
    {
     "name": "stdout",
     "output_type": "stream",
     "text": [
      "A\n",
      "[[1 2 3]\n",
      " [2 1 4]\n",
      " [2 1 7]\n",
      " [3 1 2]]\n",
      "B\n",
      "[[4 3 1]\n",
      " [3 3 4]\n",
      " [1 4 2]\n",
      " [3 4 1]]\n",
      "[[-3 -1  2]\n",
      " [-1 -2  0]\n",
      " [ 1 -3  5]\n",
      " [ 0 -3  1]]\n",
      "The Frobenious Norms of the difference A-B, aka the distance between A and B \n",
      "8.0\n"
     ]
    }
   ],
   "source": [
    "## Find the norm of the difference of A and B from previous Lecture notebook\n",
    "print (\"A\")\n",
    "\n",
    "A = np.array([[1, 2, 3],\n",
    "              [2, 1, 4],\n",
    "              [2, 1, 7],\n",
    "              [3, 1, 2]])\n",
    "print (A)\n",
    "B = np.random.randint(1, high = 5, size=(4,3))\n",
    "print (\"B\")\n",
    "print (B)\n",
    "print (A-B)\n",
    "print (\"The Frobenious Norms of the difference A-B, aka the distance between A and B \" )\n",
    "print (np.linalg.norm(A-B, ord='fro'))\n",
    "#print np.linalg.norm(A-B, ord=np.inf) # There are other kinds of norms.\n"
   ]
  },
  {
   "cell_type": "markdown",
   "metadata": {},
   "source": [
    "### Solving Linear System\n",
    "<hr>\n",
    "The solution to the linear system $Ax=b$ could be given by $x = A^{-1}b$. However, in practice we use other methods.\n",
    "<img width=\"500px\" src=\"./images/LinSys.png\" />"
   ]
  },
  {
   "cell_type": "code",
   "execution_count": 28,
   "metadata": {},
   "outputs": [
    {
     "name": "stdout",
     "output_type": "stream",
     "text": [
      "The solution to the above system is \n",
      " [[1.]\n",
      " [1.]\n",
      " [1.]]\n"
     ]
    }
   ],
   "source": [
    "# Solve the systems\n",
    "# FIND the solution using coding\n",
    "A1 =  np.array([[2, 3, -1],\n",
    "               [-1, 1, 2],\n",
    "               [3, 2, -4]], dtype=float)\n",
    "b = np.array([4, 2, 1]).reshape(3, -1)\n",
    "\n",
    "# x = inverse(A) b\n",
    "x = np.dot(np.linalg.inv(A1), b)\n",
    "print (\"The solution to the above system is \\n\",x)"
   ]
  },
  {
   "cell_type": "markdown",
   "metadata": {},
   "source": [
    "### Broadcasting\n",
    "<hr>\n",
    "Can you add the following?\n",
    "$$\n",
    "A = \\left( \\begin{array}{ccc} 1 & 1 & 2 \\\\\n",
    "1 & -1 & 3\n",
    "\\end{array}\n",
    "\\right) +\n",
    "\\left( \\begin{array}{cc} 5 \\\\\n",
    "-5\n",
    "\\end{array}\n",
    "\\right)\n",
    "$$\n",
    "\n",
    "OR\n",
    "\n",
    "$$\n",
    "A = \\left( \\begin{array}{ccc} 1 & 1 & 2 \\\\\n",
    "1 & -1 & 3\n",
    "\\end{array}\n",
    "\\right) +\n",
    "\\left( \\begin{array}{ccc} 1 & 1 &1\\\\\n",
    "\\end{array}\n",
    "\\right)\n",
    "$$"
   ]
  },
  {
   "cell_type": "code",
   "execution_count": 29,
   "metadata": {},
   "outputs": [
    {
     "name": "stdout",
     "output_type": "stream",
     "text": [
      "A =\n",
      " [[1 2 3]\n",
      " [2 1 4]\n",
      " [2 1 7]\n",
      " [3 1 2]]\n",
      "\n",
      " We will add the following column vector to A by uing broadcasting \n",
      " [[0.1]\n",
      " [0.2]\n",
      " [0.3]\n",
      " [0.4]]\n",
      "\n",
      " Here is the sum \n",
      " [[1.1 2.1 3.1]\n",
      " [2.2 1.2 4.2]\n",
      " [2.3 1.3 7.3]\n",
      " [3.4 1.4 2.4]]\n"
     ]
    }
   ],
   "source": [
    "print (\"A =\\n\",A)\n",
    "vc =np.array([0.1, 0.2, 0.3, 0.4]).reshape(4,1)\n",
    "print (\"\\n We will add the following column vector to A by uing broadcasting \\n\",vc)\n",
    "print (\"\\n Here is the sum \\n\",np.add(A, vc))"
   ]
  },
  {
   "cell_type": "markdown",
   "metadata": {},
   "source": [
    "### Standard Scaling using Broadcasting\n"
   ]
  },
  {
   "cell_type": "code",
   "execution_count": 30,
   "metadata": {},
   "outputs": [
    {
     "name": "stdout",
     "output_type": "stream",
     "text": [
      "Given a matrix L \n",
      " [[2 3 4]\n",
      " [3 2 1]\n",
      " [1 4 2]\n",
      " [5 3 2]]\n",
      "\n",
      " ---Columns means---\n",
      "[[2.75 3.   2.25]]\n",
      "\n",
      "----- Column Standard Deviation---\n",
      "[[1.47901995 0.70710678 1.08972474]]\n",
      "\n",
      " -----Standardized Columns---\n",
      "[[-0.50709255  0.          1.60591014]\n",
      " [ 0.16903085 -1.41421356 -1.14707867]\n",
      " [-1.18321596  1.41421356 -0.22941573]\n",
      " [ 1.52127766  0.         -0.22941573]]\n",
      "\n",
      "-----Verify by finding the means and standad of the rescaled data \n",
      "[[ 0.00000000e+00  0.00000000e+00 -2.77555756e-17]]\n",
      "[[1. 1. 1.]]\n"
     ]
    }
   ],
   "source": [
    "\n",
    "L = np.matrix([[2,3,4],\n",
    "               [3,2,1],\n",
    "               [1,4,2],\n",
    "               [5,3,2]])\n",
    "\n",
    "print(\"Given a matrix L \\n\",L)\n",
    "# Find the mean of every column\n",
    "Lmean = np.mean(L, axis=0)\n",
    "print(\"\\n ---Columns means---\")\n",
    "print (Lmean)\n",
    "\n",
    "\n",
    "# Find the standard deviation of every column/feature\n",
    "Lsd = np.std(L,axis=0)\n",
    "print(\"\\n----- Column Standard Deviation---\")\n",
    "print (Lsd)\n",
    "\n",
    "\n",
    "# Standard Scaling\n",
    "Ln =  (L - Lmean)/Lsd\n",
    "\n",
    "\n",
    "print (\"\\n -----Standardized Columns---\")\n",
    "print (Ln)\n",
    "\n",
    "print (\"\\n-----Verify by finding the means and standad of the rescaled data \")\n",
    "print (np.mean(Ln, axis=0))# vertical: axis = 0\n",
    "print (np.std(Ln, axis=0))\n",
    "\n",
    "# In one line\n",
    "Ln1 = (L - np.mean(L, axis=0))/np.std(L, axis=0)"
   ]
  },
  {
   "cell_type": "markdown",
   "metadata": {},
   "source": [
    "### Eigenvalues and eigenvectors\n",
    "<hr>\n",
    "An eigenvector of a square matrix $A$ is a special vector such that\n",
    "$$ A v  = \\lambda v$$\n",
    "where $\\lambda$ is called the associated eigenvalue."
   ]
  },
  {
   "cell_type": "code",
   "execution_count": 31,
   "metadata": {},
   "outputs": [
    {
     "name": "stdout",
     "output_type": "stream",
     "text": [
      "An example matrix T \n",
      " [[1 2 3]\n",
      " [4 5 6]\n",
      " [7 8 9]]\n",
      "\n",
      " Eigenvalues\n",
      "[ 1.61168440e+01 -1.11684397e+00 -4.22209278e-16]\n",
      "\n",
      " Corresponding Eigenvectors in order\n",
      "[[-0.23197069 -0.78583024  0.40824829]\n",
      " [-0.52532209 -0.08675134 -0.81649658]\n",
      " [-0.8186735   0.61232756  0.40824829]]\n"
     ]
    },
    {
     "data": {
      "text/plain": [
       "array([2.22044605e-16, 1.22124533e-15, 4.44089210e-16])"
      ]
     },
     "execution_count": 31,
     "metadata": {},
     "output_type": "execute_result"
    }
   ],
   "source": [
    "T = np.arange(1,10).reshape(3,3)\n",
    "print(\"An example matrix T \\n\",T)\n",
    "# NumPy method to find the pair of set of eigenvalues and eigenvectors\n",
    "evals, evecs = np.linalg.eig(T)\n",
    "print (\"\\n Eigenvalues\")\n",
    "print( evals)\n",
    "print (\"\\n Corresponding Eigenvectors in order\")\n",
    "print (evecs)\n",
    "\n",
    "#Verify\n",
    "i=1\n",
    "np.dot(T,evecs[:,i]) - evals[i]*evecs[:,i] # should be almost zero vectors for i=0,1,2"
   ]
  },
  {
   "cell_type": "code",
   "execution_count": 33,
   "metadata": {},
   "outputs": [
    {
     "name": "stdout",
     "output_type": "stream",
     "text": [
      "determinant: product of all eigenvalues\n",
      "6.66133814775094e-16\n"
     ]
    }
   ],
   "source": [
    "# DETERMINANT of a matrix A= product of all eigenvalues\n",
    "# det = 0 implies a square matrix is not invertible\n",
    "print (\"determinant: product of all eigenvalues\")\n",
    "print (np.linalg.det(T)) # Symmetric Matrix have real eigenvalues"
   ]
  },
  {
   "cell_type": "code",
   "execution_count": 32,
   "metadata": {},
   "outputs": [
    {
     "name": "stdout",
     "output_type": "stream",
     "text": [
      "Trace = sum of diagonal elements  =  sum of all eigenvalues\n",
      "15\n"
     ]
    }
   ],
   "source": [
    "# Trace of a square matrix = sum of all eigenvalues\n",
    "print (\"Trace = sum of diagonal elements  =  sum of all eigenvalues\")\n",
    "print (np.trace(T))"
   ]
  },
  {
   "cell_type": "markdown",
   "metadata": {},
   "source": [
    "### Correlation between features.\n",
    "***\n",
    "Pearson's correlation coefficient, $r$, is a number such that $ -1 <=r <=1$. Close to 1 (-1) for strong linear correlation, and close to 0 for no linear correlation."
   ]
  },
  {
   "cell_type": "code",
   "execution_count": 34,
   "metadata": {},
   "outputs": [
    {
     "data": {
      "text/plain": [
       "<matplotlib.collections.PathCollection at 0x7f98682f7c70>"
      ]
     },
     "execution_count": 34,
     "metadata": {},
     "output_type": "execute_result"
    },
    {
     "data": {
      "image/png": "[encoded data removed]",
      "text/plain": [
       "<Figure size 432x288 with 1 Axes>"
      ]
     },
     "metadata": {
      "needs_background": "light"
     },
     "output_type": "display_data"
    }
   ],
   "source": [
    "#\n",
    "a1  =[1,2,3, 4, 8, 5, -3, -2.4, -1.5]\n",
    "a2 = [2.2,3.5,5.8, 8.6, 12, 9, -5, -5, -4]\n",
    "\n",
    "# Scatterplot of a1 vs a2\n",
    "plt.scatter(a1,a2)"
   ]
  },
  {
   "cell_type": "markdown",
   "metadata": {},
   "source": [
    "### Correlation between features\n",
    " <img width=\"600px\" src=\"images/Correlation_examples2.png\" />"
   ]
  },
  {
   "cell_type": "code",
   "execution_count": 35,
   "metadata": {},
   "outputs": [
    {
     "name": "stdout",
     "output_type": "stream",
     "text": [
      "[[1 2 2 3]\n",
      " [2 1 1 1]\n",
      " [3 4 7 2]]\n",
      "Correlation coefficient of row vectors\n",
      "[[ 1.         -0.81649658 -0.18898224]\n",
      " [-0.81649658  1.         -0.3086067 ]\n",
      " [-0.18898224 -0.3086067   1.        ]]\n"
     ]
    }
   ],
   "source": [
    "# Correlation coefficient\n",
    "print (A.T)\n",
    "print (\"Correlation coefficient of row vectors\")\n",
    "print (np.corrcoef(A.T)) # Is a symmetric matrix"
   ]
  },
  {
   "cell_type": "code",
   "execution_count": null,
   "metadata": {
    "collapsed": true
   },
   "outputs": [],
   "source": []
  }
 ],
 "metadata": {
  "kernelspec": {
   "display_name": "Python 3 (ipykernel)",
   "language": "python",
   "name": "python3"
  },
  "language_info": {
   "codemirror_mode": {
    "name": "ipython",
    "version": 3
   },
   "file_extension": ".py",
   "mimetype": "text/x-python",
   "name": "python",
   "nbconvert_exporter": "python",
   "pygments_lexer": "ipython3",
   "version": "3.9.7"
  }
 },
 "nbformat": 4,
 "nbformat_minor": 2
}
