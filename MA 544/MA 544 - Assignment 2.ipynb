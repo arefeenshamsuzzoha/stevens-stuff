{
 "cells": [
  {
   "cell_type": "markdown",
   "metadata": {},
   "source": [
    "# Programming Assignment - 2\n",
    "---\n",
    "## Name:\n",
    "---"
   ]
  },
  {
   "cell_type": "markdown",
   "metadata": {},
   "source": [
    "## Question 1\n",
    "---\n",
    "Modify the textual data example from class to convert the document-term matrix into TF-IDF (term-frequency inverse document frequency) matrix by using basic NumPy operations where\n",
    "\n",
    ">- Term-frequency (of a word in a document) is frequency of the word in a document divided by total number of words in the document.\n",
    "\n",
    ">- Inverse document frequency of a word (all documents under consideration) is the natural log of (total number of documents/number of documents having the given word).\n",
    "\n",
    ">- tf-idf(t, d) = tf(t,d)*idf(t) ; \n",
    "\n",
    "**Display the dense output for the tf-idf matrix for the example taken in class.**"
   ]
  },
  {
   "cell_type": "code",
   "execution_count": null,
   "metadata": {},
   "outputs": [],
   "source": [
    "# Your code comes here\n",
    "\n",
    "## Example Documents: Amazon review of Taco vs Burrito\n",
    "document1 = \" I bought this game as a gift for my 8 year old daughter who loves games. I was expecting lots of gross foods--but I was surprised at the inappropriate cards--eyeball, human burger, blood salsa, and fresh brains. Those are not foods that typical people find in their refrigerators. We do not practice cannibalism. She was very upset when I suggested that we just take out those cards. I seriously wonder who thinks that those cards are appropriate for kids. The rest of the game is funny, but I wish I would have looked through the cards before I gave it to her.\"\n",
    "document2 = \"Absolutely love Taco vs burrito. I️ bought it as a kickstarter. I️ originally bought this game because my husband and I️ love to play games with friends but most of them are not targeted to children so I️ got this to add to our collection so we had options when our friends with kids came. I’m not gonna lie I️ did No have high expectations for this to be a game for adult but I️ was Sooooo wrong!!!!!! We have now played with several different groups of friends and it’s a hit!!!!! With adults it becomes a major strategy game. I️ have Now bought it as a Christmas present bc it was so well received!!!!\"\n",
    "document3 = \" Unlike several of the reviewers here, I didn't purchase this originally for when kids are around. I bought it because of the reviews that said the adults all loved it too! I'm always on the lookout for games playable by 2 people and this was a great one. It's incredibly simple, but brings a lot of laughs with the competition and sabotage. I'm really glad I gave this game a chance.\"\n",
    "doc_list = [document1, document2, document3]\n",
    "\n",
    "## Create a bag of words\n",
    "\n",
    "## Create a TF-IDF matrix"
   ]
  }
 ],
 "metadata": {
  "kernelspec": {
   "display_name": "Python 3",
   "language": "python",
   "name": "python3"
  },
  "language_info": {
   "codemirror_mode": {
    "name": "ipython",
    "version": 3
   },
   "file_extension": ".py",
   "mimetype": "text/x-python",
   "name": "python",
   "nbconvert_exporter": "python",
   "pygments_lexer": "ipython3",
   "version": "3.8.8"
  }
 },
 "nbformat": 4,
 "nbformat_minor": 4
}
