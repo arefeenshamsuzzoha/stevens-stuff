{
 "cells": [
  {
   "cell_type": "markdown",
   "metadata": {},
   "source": [
    "## Python Part 1 - Basics\n",
    "***"
   ]
  },
  {
   "cell_type": "code",
   "execution_count": 106,
   "metadata": {},
   "outputs": [],
   "source": [
    "# Import relevant modules and submodules. By the way '#' start a one-line comment.\n",
    "## The following line is only to ensure compatibility -- Python 2.7x vs 3.x\n",
    "from __future__ import print_function, division, with_statement\n",
    "\n",
    "import numpy as np # np is an alias\n",
    "import matplotlib.pyplot as plt\n",
    "\n",
    "# '%' starts a magic command. See https://ipython.readthedocs.io/en/stable/interactive/magics.html\n",
    "%matplotlib inline \n",
    "\n",
    "# Press shift+Enter to run the whole cell/box."
   ]
  },
  {
   "cell_type": "markdown",
   "metadata": {},
   "source": [
    "## Understanding the basics of Python\n",
    "***\n",
    "**Content**\n",
    "<li>Python Identifiers: a name to identify variables, functions, modules etc.</li>\n",
    "<li>Python Keywords</li>\n",
    "<li>Python statement lines and Indentation</li>\n",
    "<li>Comments: single and multilines</li>\n",
    "<li>Arithmetic, Comparison, logical and other operators</li>\n",
    "<li>Basic Data Types: Integres, floats, strings, lists, tuples, dictionary </li>\n",
    "<li>Functions</li>\n",
    "<li>Conditional Statements</li>\n",
    "<li>Loops</li>\n",
    "\n",
    "***\n",
    "**Resources**\n",
    "<br>\n",
    "> Basic Tutorial with online practice: https://www.tutorialspoint.com/python/python_basic_syntax.htm\n",
    "\n",
    "> List of builtin Python functions: https://docs.python.org/2/library/functions.html\n",
    "\n",
    "**Examples**\n",
    "> Code as many of the examples as you can from here https://www.programiz.com/python-programming/examples.\n",
    "\n",
    "**Quizzes**: \n",
    "> After going over this notebook, try finishing the quiz on the following link in 10 minutes: https://www.w3schools.com/quiztest/quiztest.asp?qtest=PYTHON\n",
    "\n",
    "> After going through all the Python resouces work on the quizzes on the following link https://realpython.com/quizzes/\n"
   ]
  },
  {
   "cell_type": "markdown",
   "metadata": {},
   "source": [
    "## Getting started"
   ]
  },
  {
   "cell_type": "code",
   "execution_count": 108,
   "metadata": {},
   "outputs": [
    {
     "name": "stdout",
     "output_type": "stream",
     "text": [
      "List of Python keywords;\n",
      " ['False', 'None', 'True', '__peg_parser__', 'and', 'as', 'assert', 'async', 'await', 'break', 'class', 'continue', 'def', 'del', 'elif', 'else', 'except', 'finally', 'for', 'from', 'global', 'if', 'import', 'in', 'is', 'lambda', 'nonlocal', 'not', 'or', 'pass', 'raise', 'return', 'try', 'while', 'with', 'yield']\n"
     ]
    }
   ],
   "source": [
    "# Keywords: These are used by the Python system, cannot have them for variable names etc.\n",
    "import keyword\n",
    "print(\"List of Python keywords;\\n\",keyword.kwlist)"
   ]
  },
  {
   "cell_type": "code",
   "execution_count": 109,
   "metadata": {},
   "outputs": [
    {
     "name": "stdout",
     "output_type": "stream",
     "text": [
      "Hello, Martin. Good Morning!\n",
      "How u doin?\n",
      "Hi, I am good.\n"
     ]
    }
   ],
   "source": [
    "# First \n",
    "#print \"Hello, everyone. Good Morning!!!\" #Statement valid only in 2.x\n",
    "print(\"Hello, Martin. Good Morning!\") # This is how printing text string works in 3.x\n",
    "print(\"How u doin?\") \n",
    "print(\"Hi, I am good.\")"
   ]
  },
  {
   "cell_type": "code",
   "execution_count": 110,
   "metadata": {},
   "outputs": [
    {
     "name": "stdout",
     "output_type": "stream",
     "text": [
      "List Price:  1520.0\n",
      "List price is: 1520.00 (if you prefer two decimal places)\n",
      "Rebate in decimals  is: 0.10\n"
     ]
    }
   ],
   "source": [
    "# VARIABLES\n",
    "# Using Numbers (int, long, float, complex): ***Dynamically typed***\n",
    "list_price = 1520.0 #a float variable\n",
    "rebate = 10 # 10% as an integer variable\n",
    "\n",
    "\n",
    "# NOTE There is no ';' to end a statement\n",
    "## ';' could be used to separate two statements in a line\n",
    "\n",
    "'''Multiline Comment: WHAT IF there is a tax of 6.5%, what \n",
    "would be the final price then.\n",
    "'''\n",
    "print(\"List Price: \",list_price);\n",
    "\n",
    "#Example: Find the price after a rebate % has been applied\n",
    "total_rebate = list_price * rebate/100\n",
    "final_price = list_price - total_rebate\n",
    "\n",
    "print(\"List price is: %.2f (if you prefer two decimal places)\"%list_price)\n",
    "print(\"Rebate in decimals  is: {0:.2f}\".format(1.0*rebate/100)) # Do you see sth fishy?\n",
    "#print \"The final price is: %.2f\" %final_price\n",
    "\n",
    "# %d for integer, %s for string"
   ]
  },
  {
   "cell_type": "code",
   "execution_count": 111,
   "metadata": {},
   "outputs": [],
   "source": [
    "# Python as a Caculator. Output of the following? \n",
    "a = 100*500/20 +555 - 300*2\n",
    "b = 100*500/40 +555 - 300*2"
   ]
  },
  {
   "cell_type": "code",
   "execution_count": 14,
   "metadata": {},
   "outputs": [
    {
     "name": "stdout",
     "output_type": "stream",
     "text": [
      "2455.0 1205.0\n"
     ]
    }
   ],
   "source": [
    "print(a, b)"
   ]
  },
  {
   "cell_type": "markdown",
   "metadata": {},
   "source": [
    "**NOTES:**\n",
    "***\n",
    "- Python is case-sensitive\n",
    "\n",
    "- Python is Dynamically typed\n",
    "\n",
    "- There is no ';' to end a statement\n",
    "\n",
    "- ';' could be used to separate two statements in a line\n",
    "\n",
    "- '#' starts a new one line comment\n",
    "\n",
    "- For multiline comments use triple single quotes for opening and closing.\n"
   ]
  },
  {
   "cell_type": "code",
   "execution_count": 113,
   "metadata": {},
   "outputs": [
    {
     "name": "stdout",
     "output_type": "stream",
     "text": [
      "2.5\n",
      "2.5\n",
      "2.5\n",
      "2.5\n",
      "2\n"
     ]
    }
   ],
   "source": [
    "# NOTE THE FOLLWING for Python 2.7 only\n",
    "print( 5/2)\n",
    "print (5.0/2)\n",
    "print (5/2.0)\n",
    "print( 1.0*5/2)\n",
    "print (5//2)"
   ]
  },
  {
   "cell_type": "code",
   "execution_count": 114,
   "metadata": {},
   "outputs": [
    {
     "name": "stdout",
     "output_type": "stream",
     "text": [
      "List price is: 1520.0\n",
      "The initial price is 1520.00 and the final price is: 1368.000\n"
     ]
    }
   ],
   "source": [
    "#in Python 3.6 this is the way to print\n",
    "print(\"List price is: {}\".format(list_price))\n",
    "#print \"The final price is: {}\" .format(final_price) will not work\n",
    "#Note: There is no need of '(...)' in Pyhon 2.7\n",
    "print(\"The initial price is {0:.2f} and the final price is: {1:.3f}\" .format(list_price, final_price))"
   ]
  },
  {
   "cell_type": "markdown",
   "metadata": {},
   "source": [
    "## Exceptions and Errors\n",
    "***\n",
    "For details and more example, see https://www.tutorialspoint.com/python/python_exceptions.htm"
   ]
  },
  {
   "cell_type": "code",
   "execution_count": 117,
   "metadata": {},
   "outputs": [
    {
     "name": "stdout",
     "output_type": "stream",
     "text": [
      "Enter the price of the object:1000\n",
      "The original price of the object is 1000.00 \n",
      "Statement inside finally always run.\n"
     ]
    }
   ],
   "source": [
    "# Understand, indentation for creating a block of code\n",
    "# importance of pass keyword\n",
    "# How to input using keyboards\n",
    "# how to type-cast\n",
    "\n",
    "import sys\n",
    "try:\n",
    "    price = float(input(\"Enter the price of the object:\"))\n",
    "    pass\n",
    "# Note that float() is working as a type-cast\n",
    "# For 3.x: use input() in place of raw_input()\n",
    "\n",
    "except ValueError:\n",
    "    print(\"Err.. numbers please\")\n",
    "    sys.exit()\n",
    "else:\n",
    "    print (\"The original price of the object is %.2f \"%price)\n",
    "\n",
    "finally:\n",
    "    print (\"Statement inside finally always run.\")\n",
    "    \n",
    "# Common Exceptions:\n",
    "## IOError, ImportError, KeuboardInterrupt, EOFError, ValueError"
   ]
  },
  {
   "cell_type": "markdown",
   "metadata": {},
   "source": [
    "## String \n",
    "---\n",
    "For all methods that work with strings, see https://www.w3schools.com/python/python_ref_string.asp"
   ]
  },
  {
   "cell_type": "code",
   "execution_count": 54,
   "metadata": {},
   "outputs": [],
   "source": [
    "#String\n",
    "multiline_string = \"\"\"Use three pairs of double quotes\"\"\"\n",
    "unicode_string = u\"\\u00dcnic\\u00f6de\"\n",
    "raw_string = r\"this is a \\n raw string\"\n",
    "\n",
    "first = \"John\"\n",
    "last = 'Doe'"
   ]
  },
  {
   "cell_type": "code",
   "execution_count": 55,
   "metadata": {},
   "outputs": [
    {
     "name": "stdout",
     "output_type": "stream",
     "text": [
      "John Doe\n"
     ]
    }
   ],
   "source": [
    "# concatenate: combine\n",
    "name = first+\" \"+last \n",
    "\n",
    "print (name)"
   ]
  },
  {
   "cell_type": "code",
   "execution_count": 25,
   "metadata": {},
   "outputs": [
    {
     "name": "stdout",
     "output_type": "stream",
     "text": [
      "JOHN DOE\n",
      "['John', 'Doe']\n",
      "['Hello', ' how', ' are you?']\n"
     ]
    }
   ],
   "source": [
    "print (name.upper())\n",
    "print (name.split(' '))\n",
    "print( \"Hello, how, are you?\".split(','))"
   ]
  },
  {
   "cell_type": "code",
   "execution_count": 27,
   "metadata": {},
   "outputs": [
    {
     "name": "stdout",
     "output_type": "stream",
     "text": [
      "n Do\n",
      "e\n",
      "John Do\n",
      "n Doe\n",
      "Jh+\n"
     ]
    }
   ],
   "source": [
    "print (name[3:-1]) #substring by slicing\n",
    "## NOTE The last indexed character is not included (i.e., -1)\n",
    "print (name[-1])\n",
    "\n",
    "print (name[:-1])\n",
    "\n",
    "print (name[-5:])\n",
    "name1 = \"John+Doe\"\n",
    "s =  slice(0,6,2) # Slice from 0 to 6 excluding 6, in steps of 2\n",
    "print (name1[s])\n",
    "## Play with other in-built functions"
   ]
  },
  {
   "cell_type": "code",
   "execution_count": 119,
   "metadata": {},
   "outputs": [
    {
     "name": "stdout",
     "output_type": "stream",
     "text": [
      "The list of words is...\n",
      "['My', 'name', 'is', 'John', 'Doe.']\n",
      "\n",
      " The number of words in the sentence is...\n",
      "5\n"
     ]
    }
   ],
   "source": [
    "# COUNT THE NUMBER OF WORDS IN A SENTENCE.\n",
    "# A list is an ordered collection of objects of any types, repetition is allowed\n",
    "sent = \"My name is John Doe.\"\n",
    "words =sent.split(' ') # split around space\n",
    "print (\"The list of words is...\")\n",
    "print( words)\n",
    "\n",
    "print (\"\\n The number of words in the sentence is...\")\n",
    "print (len(words))"
   ]
  },
  {
   "cell_type": "code",
   "execution_count": 120,
   "metadata": {},
   "outputs": [
    {
     "name": "stdout",
     "output_type": "stream",
     "text": [
      "\n",
      " When space is replaced by ''HAHA', the sentence is...\n",
      "MyHAHAnameHAHAisHAHAJohnHAHADoe.\n"
     ]
    }
   ],
   "source": [
    "# REPLACE some substring by another \n",
    "sent2 = sent.replace(' ', \"HAHA\")\n",
    "print (\"\\n When space is replaced by ''HAHA', the sentence is...\")\n",
    "print (sent2)"
   ]
  },
  {
   "cell_type": "markdown",
   "metadata": {},
   "source": [
    "## Functions"
   ]
  },
  {
   "cell_type": "code",
   "execution_count": 121,
   "metadata": {},
   "outputs": [],
   "source": [
    "# FUNCTION TO COUNT THE NUMBER OF WORDS IN A SENTENCE.\n",
    "def count_words(sen): # After ':' + Enter starts a block of code. Notes the absence of paranthesis\n",
    "    words = sen.split(' ')    \n",
    "    return len(words), words\n",
    "\n",
    "# A python function can return multiple items\n",
    "\n"
   ]
  },
  {
   "cell_type": "code",
   "execution_count": 122,
   "metadata": {},
   "outputs": [
    {
     "name": "stdout",
     "output_type": "stream",
     "text": [
      "The number of words in the sentence is 3 and the list of words is:\n",
      "['Tomorrow', 'never', 'dies.']\n"
     ]
    }
   ],
   "source": [
    "# Use the function defined above to count the number of words\n",
    "n, lw = count_words(\"Tomorrow never dies.\")\n",
    "print (\"The number of words in the sentence is %d and the list of words is:\"%n)\n",
    "print (lw)"
   ]
  },
  {
   "cell_type": "code",
   "execution_count": 58,
   "metadata": {},
   "outputs": [
    {
     "name": "stdout",
     "output_type": "stream",
     "text": [
      "Number of words: 3\n"
     ]
    }
   ],
   "source": [
    "n,_ = count_words(\"Tomorrow never dies.\") \n",
    "print(\"Number of words: {}\".format(n))\n",
    "# if we don't want the second returned item"
   ]
  },
  {
   "cell_type": "code",
   "execution_count": 33,
   "metadata": {},
   "outputs": [
    {
     "ename": "TypeError",
     "evalue": "'str' object does not support item assignment",
     "output_type": "error",
     "traceback": [
      "\u001b[0;31m---------------------------------------------------------------------------\u001b[0m",
      "\u001b[0;31mTypeError\u001b[0m                                 Traceback (most recent call last)",
      "\u001b[0;32m<ipython-input-33-934ecdaf7e0f>\u001b[0m in \u001b[0;36m<module>\u001b[0;34m()\u001b[0m\n\u001b[1;32m      1\u001b[0m \u001b[0;31m# Can we change a string. NO, they are immutable objects\u001b[0m\u001b[0;34m\u001b[0m\u001b[0;34m\u001b[0m\u001b[0m\n\u001b[0;32m----> 2\u001b[0;31m \u001b[0mname\u001b[0m\u001b[0;34m[\u001b[0m\u001b[0;36m0\u001b[0m\u001b[0;34m]\u001b[0m \u001b[0;34m=\u001b[0m \u001b[0;34m\"D\"\u001b[0m\u001b[0;34m\u001b[0m\u001b[0m\n\u001b[0m\u001b[1;32m      3\u001b[0m \u001b[0;31m# Immutable: can not be changed (sring, tuple)\u001b[0m\u001b[0;34m\u001b[0m\u001b[0;34m\u001b[0m\u001b[0m\n\u001b[1;32m      4\u001b[0m \u001b[0;31m# mutable: mutable objecyts could be changed (list, dictionary)\u001b[0m\u001b[0;34m\u001b[0m\u001b[0;34m\u001b[0m\u001b[0m\n",
      "\u001b[0;31mTypeError\u001b[0m: 'str' object does not support item assignment"
     ]
    }
   ],
   "source": [
    "# Can we change a string. NO, they are immutable objects\n",
    "name[0] = \"D\"\n",
    "# Immutable: can not be changed (sring, tuple)\n",
    "# mutable: mutable objecyts could be changed (list, dictionary)"
   ]
  },
  {
   "cell_type": "markdown",
   "metadata": {},
   "source": [
    "## List"
   ]
  },
  {
   "cell_type": "code",
   "execution_count": 59,
   "metadata": {},
   "outputs": [
    {
     "name": "stdout",
     "output_type": "stream",
     "text": [
      "[345, 89.75, 'hi', [1, 2, 3], 'HELLO', 'Ciao']\n"
     ]
    }
   ],
   "source": [
    "# Lists: collection/sequence of objects, that could be of different types\n",
    "#list objects could be changed, they are mutable/changeable.\n",
    "list1 = [345, 89.75, \"hi\", [1,2,3], \"HELLO\", \"Ciao\"]\n",
    "\n",
    "print(list1)"
   ]
  },
  {
   "cell_type": "code",
   "execution_count": 60,
   "metadata": {},
   "outputs": [
    {
     "name": "stdout",
     "output_type": "stream",
     "text": [
      "[345, 89.75, 'hi', [1, 2, 3], 'HELLO', 'Ciao', 345, 89.75, 'hi', [1, 2, 3], 'HELLO', 'Ciao', 345, 89.75, 'hi', [1, 2, 3], 'HELLO', 'Ciao']\n"
     ]
    }
   ],
   "source": [
    "print (list1*3) # A new list from old elemnts repeated thrice in order"
   ]
  },
  {
   "cell_type": "code",
   "execution_count": 61,
   "metadata": {},
   "outputs": [
    {
     "name": "stdout",
     "output_type": "stream",
     "text": [
      "[345, 89.75, 'hi', [1, 2, 3], 'HELLO', 'Ciao', 'good', 'bad']\n"
     ]
    }
   ],
   "source": [
    "print (list1 + [\"good\", \"bad\"]) # elemnts from second list are appended to first list"
   ]
  },
  {
   "cell_type": "code",
   "execution_count": 62,
   "metadata": {},
   "outputs": [
    {
     "name": "stdout",
     "output_type": "stream",
     "text": [
      "hi\n",
      "[89.75, 'hi', [1, 2, 3]]\n"
     ]
    }
   ],
   "source": [
    "print  (list1[2]) # Third element of the list as indexing start from 0\n",
    "\n",
    "print (list1[1:4]) #Slicing: Elements from index 1 to 4, excluding 4"
   ]
  },
  {
   "cell_type": "code",
   "execution_count": 64,
   "metadata": {},
   "outputs": [
    {
     "name": "stdout",
     "output_type": "stream",
     "text": [
      "[345, 89.75, 'hi', [1, 2, 3], 'HELLO', 'Ciao']\n",
      "[345, 'hi', 'HELLO']\n",
      "[345, [1, 2, 3]]\n",
      "[345, 'hi']\n",
      "[345, 'hi', 'HELLO']\n"
     ]
    }
   ],
   "source": [
    "# Slicing a list\n",
    "print (list1)\n",
    "print (list1[0:6:2]) # in steps of 2\n",
    "\n",
    "print (list1[0:6:3]) # in steps of 3\n",
    "\n",
    "print (list1[0:-2:2]) # in steps of 2\n",
    "\n",
    "s = slice(0,6,2)\n",
    "print (list1[s])"
   ]
  },
  {
   "cell_type": "code",
   "execution_count": 65,
   "metadata": {},
   "outputs": [
    {
     "name": "stdout",
     "output_type": "stream",
     "text": [
      "[345, 89.75, 555.55, [1, 2, 3], 'HELLO', 'Ciao']\n"
     ]
    }
   ],
   "source": [
    "list1[2] = 555.55 # Look, the elements could be changed\n",
    "\n",
    "print (list1) #list is a mutable object. Note the change\n",
    "\n",
    "# Try making this change above and see error: name[1]=\"K\" # Why? Strings are immutable."
   ]
  },
  {
   "cell_type": "code",
   "execution_count": 66,
   "metadata": {},
   "outputs": [
    {
     "name": "stdout",
     "output_type": "stream",
     "text": [
      "[345, 89.75, 555.55, [1, 2, 3], 'HELLO', 'Ciao']\n",
      "\n",
      "\n",
      "[89.75, 555.55, [1, 2, 3], 'HELLO', 'Ciao']\n"
     ]
    }
   ],
   "source": [
    "# List routines\n",
    "\n",
    "print (list1)\n",
    "del list1[0]\n",
    "print (\"\\n\")\n",
    "print( list1)"
   ]
  },
  {
   "cell_type": "code",
   "execution_count": 67,
   "metadata": {},
   "outputs": [
    {
     "data": {
      "text/plain": [
       "5"
      ]
     },
     "execution_count": 67,
     "metadata": {},
     "output_type": "execute_result"
    }
   ],
   "source": [
    "#length of a list\n",
    "len(list1)"
   ]
  },
  {
   "cell_type": "code",
   "execution_count": 68,
   "metadata": {},
   "outputs": [
    {
     "name": "stdout",
     "output_type": "stream",
     "text": [
      "['AAA', 89.75, 555.55, [1, 2, 3], 'HELLO', 'Ciao']\n"
     ]
    }
   ],
   "source": [
    "list1.insert(0, \"AAA\")\n",
    "print (list1)"
   ]
  },
  {
   "cell_type": "code",
   "execution_count": 69,
   "metadata": {},
   "outputs": [
    {
     "name": "stdout",
     "output_type": "stream",
     "text": [
      "['AAA', 89.75, 555.55, [1, 2, 3], 'HELLO', 'Ciao', 'Z....']\n"
     ]
    }
   ],
   "source": [
    "list1.append(\"Z....\")\n",
    "print( list1)"
   ]
  },
  {
   "cell_type": "code",
   "execution_count": 70,
   "metadata": {},
   "outputs": [
    {
     "name": "stdout",
     "output_type": "stream",
     "text": [
      "['AAA', 89.75, 555.55, [1, 2, 3], 'HELLO', 'Ciao', 'Z....', 'I love apples', 'not Bananas']\n"
     ]
    }
   ],
   "source": [
    "list1.extend([\"I love apples\", \"not Bananas\"])\n",
    "print (list1)"
   ]
  },
  {
   "cell_type": "code",
   "execution_count": 71,
   "metadata": {},
   "outputs": [
    {
     "ename": "ValueError",
     "evalue": "list.remove(x): x not in list",
     "output_type": "error",
     "traceback": [
      "\u001b[0;31m---------------------------------------------------------------------------\u001b[0m",
      "\u001b[0;31mValueError\u001b[0m                                Traceback (most recent call last)",
      "\u001b[0;32m/var/folders/j8/n1k26lsx2b5__nzr4pr131xr0000gn/T/ipykernel_95658/2595489399.py\u001b[0m in \u001b[0;36m<module>\u001b[0;34m\u001b[0m\n\u001b[0;32m----> 1\u001b[0;31m \u001b[0mlist1\u001b[0m\u001b[0;34m.\u001b[0m\u001b[0mremove\u001b[0m\u001b[0;34m(\u001b[0m\u001b[0;34m\"ZZ\"\u001b[0m\u001b[0;34m)\u001b[0m\u001b[0;34m\u001b[0m\u001b[0;34m\u001b[0m\u001b[0m\n\u001b[0m\u001b[1;32m      2\u001b[0m \u001b[0mprint\u001b[0m \u001b[0;34m(\u001b[0m\u001b[0mlist1\u001b[0m\u001b[0;34m)\u001b[0m\u001b[0;34m\u001b[0m\u001b[0;34m\u001b[0m\u001b[0m\n",
      "\u001b[0;31mValueError\u001b[0m: list.remove(x): x not in list"
     ]
    }
   ],
   "source": [
    "list1.remove(\"ZZ\")\n",
    "print (list1)"
   ]
  },
  {
   "cell_type": "code",
   "execution_count": 73,
   "metadata": {},
   "outputs": [
    {
     "name": "stdout",
     "output_type": "stream",
     "text": [
      "555.55\n",
      "['AAA', [1, 2, 3], 'HELLO', 'Ciao', 'Z....', 'I love apples', 'not Bananas']\n"
     ]
    }
   ],
   "source": [
    "print (list1.pop(1)) # Remove and return the element at index 1\n",
    "print (list1)"
   ]
  },
  {
   "cell_type": "code",
   "execution_count": 75,
   "metadata": {},
   "outputs": [
    {
     "name": "stdout",
     "output_type": "stream",
     "text": [
      "[1, 4, 4, 6, 8, 9]\n"
     ]
    }
   ],
   "source": [
    "# return the list after sorting the elements\n",
    "print (sorted([6, 4, 1, 9, 8, 4]))"
   ]
  },
  {
   "cell_type": "code",
   "execution_count": 76,
   "metadata": {},
   "outputs": [
    {
     "name": "stdout",
     "output_type": "stream",
     "text": [
      "['1', 'e', 'l', 'o', 'p', 't']\n",
      "1elopt\n"
     ]
    }
   ],
   "source": [
    "print(sorted(\"lepto1\"))\n",
    "print(''.join(sorted(\"lepto1\")))"
   ]
  },
  {
   "cell_type": "code",
   "execution_count": 77,
   "metadata": {},
   "outputs": [
    {
     "name": "stdout",
     "output_type": "stream",
     "text": [
      "not Bananas\n",
      "\n",
      "\n",
      "['AAA', [1, 2, 3], 'HELLO', 'Ciao', 'Z....', 'I love apples']\n"
     ]
    }
   ],
   "source": [
    "print (list1.pop(-1))\n",
    "print( \"\\n\")\n",
    "print (list1)\n",
    "# count"
   ]
  },
  {
   "cell_type": "code",
   "execution_count": 78,
   "metadata": {},
   "outputs": [
    {
     "name": "stdout",
     "output_type": "stream",
     "text": [
      "[[3, 2, 1], 5, 'hi', 'hello']\n"
     ]
    }
   ],
   "source": [
    "list3 = [\"hello\", 'hi', 5,[3,2,1]]\n",
    "list3.reverse()\n",
    "\n",
    "print (list3)\n"
   ]
  },
  {
   "cell_type": "code",
   "execution_count": 80,
   "metadata": {},
   "outputs": [
    {
     "name": "stdout",
     "output_type": "stream",
     "text": [
      "2\n"
     ]
    }
   ],
   "source": [
    "# Access 2 from the list above\n",
    "print( list3[0][1])"
   ]
  },
  {
   "cell_type": "code",
   "execution_count": 81,
   "metadata": {},
   "outputs": [
    {
     "name": "stdout",
     "output_type": "stream",
     "text": [
      "range(2, 20, 3)\n",
      "[2, 5, 8, 11, 14, 17]\n"
     ]
    }
   ],
   "source": [
    "# Range of number \n",
    "nums = range(2, 20, 3) # starts from 0 if 2 is not provided\n",
    "print (nums)\n",
    "print (list(nums))\n",
    "\n",
    "## Documentation by click shift+tab while the cursor is on the function"
   ]
  },
  {
   "cell_type": "markdown",
   "metadata": {},
   "source": [
    "## Tuples"
   ]
  },
  {
   "cell_type": "code",
   "execution_count": 82,
   "metadata": {},
   "outputs": [
    {
     "data": {
      "text/plain": [
       "(89.75, 'hi')"
      ]
     },
     "execution_count": 82,
     "metadata": {},
     "output_type": "execute_result"
    }
   ],
   "source": [
    "#Tuples: How does it differ from a list?\n",
    "tpl = (345, 89.75, \"hi\", [1,2,3])\n",
    "tpl[1:3]"
   ]
  },
  {
   "cell_type": "code",
   "execution_count": 83,
   "metadata": {},
   "outputs": [
    {
     "ename": "TypeError",
     "evalue": "'tuple' object does not support item assignment",
     "output_type": "error",
     "traceback": [
      "\u001b[0;31m---------------------------------------------------------------------------\u001b[0m",
      "\u001b[0;31mTypeError\u001b[0m                                 Traceback (most recent call last)",
      "\u001b[0;32m/var/folders/j8/n1k26lsx2b5__nzr4pr131xr0000gn/T/ipykernel_95658/475209935.py\u001b[0m in \u001b[0;36m<module>\u001b[0;34m\u001b[0m\n\u001b[1;32m      1\u001b[0m \u001b[0;31m#Try this:\u001b[0m\u001b[0;34m\u001b[0m\u001b[0;34m\u001b[0m\u001b[0m\n\u001b[0;32m----> 2\u001b[0;31m \u001b[0mtpl\u001b[0m\u001b[0;34m[\u001b[0m\u001b[0;36m2\u001b[0m\u001b[0;34m]\u001b[0m\u001b[0;34m=\u001b[0m\u001b[0;36m44\u001b[0m \u001b[0;31m# Gives error as tuples are immutable\u001b[0m\u001b[0;34m\u001b[0m\u001b[0;34m\u001b[0m\u001b[0m\n\u001b[0m",
      "\u001b[0;31mTypeError\u001b[0m: 'tuple' object does not support item assignment"
     ]
    }
   ],
   "source": [
    "#Try this: \n",
    "tpl[2]=44 # Gives error as tuples are immutable"
   ]
  },
  {
   "cell_type": "code",
   "execution_count": 86,
   "metadata": {},
   "outputs": [
    {
     "name": "stdout",
     "output_type": "stream",
     "text": [
      "4\n",
      "1\n",
      "2\n",
      "([1, 2, 3], 'hi', 89.75)\n",
      "([1, 2, 3], 'hi', 89.75, 345)\n"
     ]
    }
   ],
   "source": [
    "print (len(tpl))\n",
    "print (tpl.count(345))\n",
    "print (tpl.index('hi'))\n",
    "print (tpl[-1:0:-1])\n",
    "print (tpl[-1::-1])\n",
    "#print (sorted(tpl)) # Can we sort a tuple with different types of elements?"
   ]
  },
  {
   "cell_type": "code",
   "execution_count": 87,
   "metadata": {},
   "outputs": [
    {
     "name": "stdout",
     "output_type": "stream",
     "text": [
      "(10,)\n"
     ]
    }
   ],
   "source": [
    "# Tuple with one element\n",
    "singleton = (10,)\n",
    "print(singleton)"
   ]
  },
  {
   "cell_type": "markdown",
   "metadata": {},
   "source": [
    "## Dictionary"
   ]
  },
  {
   "cell_type": "code",
   "execution_count": 88,
   "metadata": {},
   "outputs": [
    {
     "name": "stdout",
     "output_type": "stream",
     "text": [
      "The exam scores of John Doe are:\n",
      "[90, 80, 30, 70, 88]\n"
     ]
    }
   ],
   "source": [
    "#Dictionary: mutable data type. Elements are in key:value pairs\n",
    "# Keys are strings or integers, values could be any object type \n",
    "dict1 = {'first':'John', 'last':\"Doe\", 'scores' :[90, 80, 30, 70, 88]}\n",
    "\n",
    "print (\"The exam scores of \"+ dict1[\"first\"]+\" \"+dict1[\"last\"]+\" are:\")\n",
    "print (dict1[\"scores\"])"
   ]
  },
  {
   "cell_type": "code",
   "execution_count": 89,
   "metadata": {},
   "outputs": [
    {
     "name": "stdout",
     "output_type": "stream",
     "text": [
      "{'first': 'Cohn', 'last': 'Doe', 'scores': [90, 80, 30, 70, 88]}\n"
     ]
    }
   ],
   "source": [
    "dict2 = dict1\n",
    "dict2['first'] = \"Cohn\" # New element creation\n",
    "print (dict2)\n",
    "#order does not matter in a dictionary"
   ]
  },
  {
   "cell_type": "code",
   "execution_count": 90,
   "metadata": {},
   "outputs": [
    {
     "name": "stdout",
     "output_type": "stream",
     "text": [
      "{'first': 'Cohn', 'last': 'Doe', 'scores': [90, 80, 30, 70, 88]}\n",
      "{'first': 'Cohn', 'last': 'Doe', 'scores': [90, 80, 30, 70, 88]}\n"
     ]
    }
   ],
   "source": [
    "print( dict1)\n",
    "print (dict2)\n",
    "# What is your observation from the following output"
   ]
  },
  {
   "cell_type": "code",
   "execution_count": null,
   "metadata": {
    "collapsed": true
   },
   "outputs": [],
   "source": [
    "dict1['list'] # will give error"
   ]
  },
  {
   "cell_type": "code",
   "execution_count": 93,
   "metadata": {},
   "outputs": [
    {
     "name": "stdout",
     "output_type": "stream",
     "text": [
      "{'first': 'Bohn', 'last': 'Doe', 'scores': [90, 80, 30, 70, 88]}\n",
      "\n",
      "\n",
      "{'first': 'Bohn', 'last': 'Doe', 'scores': [90, 80, 30, 70, 88]}\n"
     ]
    }
   ],
   "source": [
    "dict2['first'] = \"Bohn\" # element change\n",
    "print (dict2)\n",
    "print (\"\\n\")\n",
    "print (dict1) # what would this line output"
   ]
  },
  {
   "cell_type": "code",
   "execution_count": 94,
   "metadata": {},
   "outputs": [
    {
     "name": "stdout",
     "output_type": "stream",
     "text": [
      "{'first': 'Bohn', 'last': 'Poe', 'scores': [90, 80, 30, 70, 88]}\n",
      "\n",
      "\n",
      "{'first': 'Bohn', 'last': 'Poe', 'scores': [90, 80, 30, 70, 88]}\n",
      "\n",
      "\n",
      "{'first': 'Bohn', 'last': 'Doe', 'scores': [90, 80, 30, 70, 88]}\n"
     ]
    }
   ],
   "source": [
    "# How do we preserve a dictionary while making changes in a replica\n",
    "dict3 = dict1.copy()\n",
    "dict1['last'] = 'Poe'\n",
    "print( dict1)\n",
    "print (\"\\n\")\n",
    "print (dict2)\n",
    "print (\"\\n\")\n",
    "print (dict3)"
   ]
  },
  {
   "cell_type": "code",
   "execution_count": 95,
   "metadata": {},
   "outputs": [],
   "source": [
    "dict1['scores'][1] = 50"
   ]
  },
  {
   "cell_type": "code",
   "execution_count": 98,
   "metadata": {},
   "outputs": [
    {
     "name": "stdout",
     "output_type": "stream",
     "text": [
      "{'first': 'Bohn', 'last': 'Poe', 'scores': [90, 50, 30, 70, 88]}\n",
      "\n",
      "\n",
      "{'first': 'Bohn', 'last': 'Poe', 'scores': [90, 50, 30, 70, 88]}\n",
      "\n",
      "\n",
      "{'first': 'Bohn', 'last': 'Doe', 'scores': [90, 50, 30, 70, 88]}\n"
     ]
    }
   ],
   "source": [
    "print( dict1)\n",
    "print (\"\\n\")\n",
    "print (dict2)\n",
    "print (\"\\n\")\n",
    "print (dict3)\n",
    "# What is your observation from the following output"
   ]
  },
  {
   "cell_type": "code",
   "execution_count": 99,
   "metadata": {},
   "outputs": [
    {
     "name": "stdout",
     "output_type": "stream",
     "text": [
      "{'first': 'Bohn', 'last': 'Poe', 'scores': [90, 100, 30, 70, 88]}\n",
      "\n",
      "\n",
      "{'first': 'Bohn', 'last': 'Poe', 'scores': [90, 100, 30, 70, 88]}\n",
      "\n",
      "\n",
      "{'first': 'Bohn', 'last': 'Poe', 'scores': [90, 50, 30, 70, 88]}\n"
     ]
    }
   ],
   "source": [
    "import copy\n",
    "dict3 = copy.deepcopy(dict1)\n",
    "dict1['scores'][1] = 100\n",
    "print( dict1)\n",
    "print (\"\\n\")\n",
    "print (dict2)\n",
    "print (\"\\n\")\n",
    "print (dict3)"
   ]
  },
  {
   "cell_type": "code",
   "execution_count": 100,
   "metadata": {},
   "outputs": [
    {
     "name": "stdout",
     "output_type": "stream",
     "text": [
      "{}\n"
     ]
    }
   ],
   "source": [
    "dict3.clear() # Play with other functions\n",
    "\n",
    "print (dict3)\n"
   ]
  },
  {
   "cell_type": "code",
   "execution_count": 101,
   "metadata": {},
   "outputs": [
    {
     "name": "stdout",
     "output_type": "stream",
     "text": [
      "dict_items([('first', 'Bohn'), ('last', 'Poe'), ('scores', [90, 100, 30, 70, 88])])\n"
     ]
    }
   ],
   "source": [
    "print(dict1.items())"
   ]
  },
  {
   "cell_type": "code",
   "execution_count": 102,
   "metadata": {},
   "outputs": [
    {
     "name": "stdout",
     "output_type": "stream",
     "text": [
      "dict_values(['Bohn', 'Poe', [90, 100, 30, 70, 88]])\n"
     ]
    }
   ],
   "source": [
    "print( dict1.values())\n",
    "# GO AHEAD play with all the methods"
   ]
  },
  {
   "cell_type": "code",
   "execution_count": 103,
   "metadata": {},
   "outputs": [
    {
     "name": "stdout",
     "output_type": "stream",
     "text": [
      "dict_keys(['first', 'last', 'scores'])\n"
     ]
    }
   ],
   "source": [
    "print (dict1.keys())"
   ]
  },
  {
   "cell_type": "code",
   "execution_count": 105,
   "metadata": {},
   "outputs": [
    {
     "ename": "AttributeError",
     "evalue": "'dict' object has no attribute 'has_key'",
     "output_type": "error",
     "traceback": [
      "\u001b[0;31m---------------------------------------------------------------------------\u001b[0m",
      "\u001b[0;31mAttributeError\u001b[0m                            Traceback (most recent call last)",
      "\u001b[0;32m/var/folders/j8/n1k26lsx2b5__nzr4pr131xr0000gn/T/ipykernel_95658/4169540103.py\u001b[0m in \u001b[0;36m<module>\u001b[0;34m\u001b[0m\n\u001b[0;32m----> 1\u001b[0;31m \u001b[0mdict1\u001b[0m\u001b[0;34m.\u001b[0m\u001b[0mhas_key\u001b[0m\u001b[0;34m(\u001b[0m\u001b[0;34m'last'\u001b[0m\u001b[0;34m)\u001b[0m\u001b[0;34m\u001b[0m\u001b[0;34m\u001b[0m\u001b[0m\n\u001b[0m\u001b[1;32m      2\u001b[0m \u001b[0mdict1\u001b[0m\u001b[0;34m.\u001b[0m\u001b[0mhas_key\u001b[0m\u001b[0;34m(\u001b[0m\u001b[0;34m'fast'\u001b[0m\u001b[0;34m)\u001b[0m\u001b[0;34m\u001b[0m\u001b[0;34m\u001b[0m\u001b[0m\n",
      "\u001b[0;31mAttributeError\u001b[0m: 'dict' object has no attribute 'has_key'"
     ]
    }
   ],
   "source": [
    "dict1.has_key('last')\n",
    "dict1.has_key('fast')"
   ]
  },
  {
   "cell_type": "markdown",
   "metadata": {},
   "source": [
    "## Operators: Arithmetic, Comparison, Logical"
   ]
  },
  {
   "cell_type": "code",
   "execution_count": 72,
   "metadata": {
    "scrolled": true
   },
   "outputs": [
    {
     "name": "stdout",
     "output_type": "stream",
     "text": [
      "100\n",
      "1\n"
     ]
    }
   ],
   "source": [
    "'''\n",
    "Hello My Name is .....\n",
    "this is  a multi line comment\n",
    "'''\n",
    "a=10; b=20; c=30\n",
    "print (a**2) # Power, square of a\n",
    "print (a%3)  # modulo or remainder operator"
   ]
  },
  {
   "cell_type": "code",
   "execution_count": null,
   "metadata": {
    "collapsed": true
   },
   "outputs": [],
   "source": [
    "#Logical and bitwise operators\n",
    "a = 12; b = 9  # a:1100 and b:1001\n",
    "print a & b # bitwise AND 1001, that is number 8\n",
    "print a | b # bitwise OR 1101, that is the number 13"
   ]
  },
  {
   "cell_type": "code",
   "execution_count": 78,
   "metadata": {},
   "outputs": [
    {
     "name": "stdout",
     "output_type": "stream",
     "text": [
      "False\n",
      "False\n",
      "True\n",
      "False\n",
      "True\n",
      "False\n",
      "True\n"
     ]
    }
   ],
   "source": [
    "# Working with boolean variables\n",
    "flag1=True #or 1\n",
    "flag2=False #or 0\n",
    "\n",
    "print (flag1 == 0 )#logical identity operator\n",
    "print (flag1 == 2)\n",
    "print (flag2 == 0)\n",
    "print (flag2 == 3)\n",
    "print (flag1 == 1)\n",
    "print (flag1 is 1)\n",
    "print (flag1 is True)"
   ]
  },
  {
   "cell_type": "code",
   "execution_count": 88,
   "metadata": {},
   "outputs": [
    {
     "name": "stdout",
     "output_type": "stream",
     "text": [
      "False\n",
      "False\n",
      "True\n"
     ]
    }
   ],
   "source": [
    "print (2==5)\n",
    "print (2>5)\n",
    "print (2<5)"
   ]
  },
  {
   "cell_type": "code",
   "execution_count": 89,
   "metadata": {},
   "outputs": [
    {
     "name": "stdout",
     "output_type": "stream",
     "text": [
      "Logical and/or/not\n",
      "False\n",
      "False\n",
      "True\n"
     ]
    }
   ],
   "source": [
    "#Logical operators and/or/not\n",
    "print ('Logical and/or/not')\n",
    "\n",
    "print (not flag1)\n",
    "print (flag1 and flag2)\n",
    "print (flag1 or flag2)"
   ]
  },
  {
   "cell_type": "markdown",
   "metadata": {},
   "source": [
    "## Decision: if-else\n",
    "***\n",
    "<img src=\"./images/decision.png\" width=\"300px\"/>"
   ]
  },
  {
   "cell_type": "code",
   "execution_count": 92,
   "metadata": {},
   "outputs": [
    {
     "name": "stdout",
     "output_type": "stream",
     "text": [
      "Hi, do I know you from somewhere?\n",
      "You look familiar.\n"
     ]
    }
   ],
   "source": [
    "# Decision Making: If-else statements\n",
    "if first=='Cohn':\n",
    "    print (\"Hello Mr. Doe\")\n",
    "    print (\"How r u?\")\n",
    "else:\n",
    "    print (\"Hi, do I know you from somewhere?\")\n",
    "    print (\"You look familiar.\")\n"
   ]
  },
  {
   "cell_type": "code",
   "execution_count": null,
   "metadata": {
    "collapsed": true
   },
   "outputs": [],
   "source": [
    "\n",
    "# Decision Making: Nested\n",
    "if first=='Chon':\n",
    "    print \"Hello Mr. \"+last\n",
    "elif last=='DoW':  # NOTE else if = elif togther\n",
    "    print \"Hi \"+first\n",
    "else:\n",
    "    print \"Hi, Do I know you from somewhere?\""
   ]
  },
  {
   "cell_type": "code",
   "execution_count": null,
   "metadata": {
    "collapsed": true
   },
   "outputs": [],
   "source": [
    "# Decision Making: Nested\n",
    "if first=='Chon':\n",
    "    print \"Hello Mr. \"+last\n",
    "elif last=='Doe':  # NOTE else if = elif togther\n",
    "    print \"Hi \"+first\n",
    "else:\n",
    "    print \"Hi, Do I know you from somewhere?\""
   ]
  },
  {
   "cell_type": "code",
   "execution_count": 96,
   "metadata": {},
   "outputs": [
    {
     "name": "stdout",
     "output_type": "stream",
     "text": [
      "Not Even\n",
      "Do you see some output?\n"
     ]
    }
   ],
   "source": [
    "# Sole if statement\n",
    "N = 95 # CHANGE the number and find how many lines should be printed\n",
    "if N % 2==0:\n",
    "    if N%4==0:\n",
    "        print (\"Even and divisible by 4\")\n",
    "        print (\"this is second block\")\n",
    "    else:\n",
    "        print (\"Even but not divisible by 4\")\n",
    "    print (\"Back to level 1\")\n",
    "else: \n",
    "    print(\"Not Even\")\n",
    "\n",
    "print (\"Do you see some output?\")"
   ]
  },
  {
   "cell_type": "markdown",
   "metadata": {},
   "source": [
    "### Loops: while\n",
    "<img src=\"./images/loop.png\" width=\"300px\"/>"
   ]
  },
  {
   "cell_type": "code",
   "execution_count": 13,
   "metadata": {},
   "outputs": [
    {
     "name": "stdout",
     "output_type": "stream",
     "text": [
      "Truth Shall Prevail.\n",
      "Truth Shall Prevail.\n",
      "Truth Shall Prevail.\n",
      "Truth Shall Prevail.\n",
      "We are outside the while loop now.\n"
     ]
    }
   ],
   "source": [
    "#while loop\n",
    "i=0\n",
    "while i < 4:    \n",
    "    print (\"Truth Shall Prevail.\")\n",
    "    i +=1 #or i = i+1\n",
    "print (\"We are outside the while loop now.\")"
   ]
  },
  {
   "cell_type": "code",
   "execution_count": 100,
   "metadata": {},
   "outputs": [
    {
     "name": "stdout",
     "output_type": "stream",
     "text": [
      "Truth Shall Prevail.\n",
      "Truth Shall Prevail.\n",
      "Truth Shall Prevail.\n",
      "Truth Shall Prevail.\n",
      "Truth Shall Prevail.\n",
      "Truth Shall Prevail.\n",
      "We are outside the while loops now.\n"
     ]
    }
   ],
   "source": [
    "#while loop\n",
    "i=0\n",
    "while True:    \n",
    "    print (\"Truth Shall Prevail.\")\n",
    "    if i>4:\n",
    "        break\n",
    "    i +=1 #or i = i+1\n",
    "print (\"We are outside the while loops now.\")"
   ]
  },
  {
   "cell_type": "code",
   "execution_count": null,
   "metadata": {
    "collapsed": true
   },
   "outputs": [],
   "source": [
    "# While Loop with break\n",
    "i=0\n",
    "while i<6:\n",
    "    i+=1\n",
    "    if i==3:\n",
    "        print \"Oh dear!\"\n",
    "        break  # Break the loop, go to line after the loop\n",
    "    else:\n",
    "        print \"Hey\"\n",
    "        print \"Jude\"\n",
    "    print \"HELLO\"\n",
    "        \n",
    "\n",
    "# NOTE: when break statement is executed, the contol comes outside the loop"
   ]
  },
  {
   "cell_type": "code",
   "execution_count": 102,
   "metadata": {},
   "outputs": [
    {
     "name": "stdout",
     "output_type": "stream",
     "text": [
      "False\n"
     ]
    }
   ],
   "source": [
    "# Think why the following statement makes sense.\n",
    "i = i == 2\n",
    "print (i)"
   ]
  },
  {
   "cell_type": "code",
   "execution_count": 103,
   "metadata": {},
   "outputs": [
    {
     "name": "stdout",
     "output_type": "stream",
     "text": [
      "1\n"
     ]
    }
   ],
   "source": [
    "# What will be printed\n",
    "i +=1\n",
    "print(i)"
   ]
  },
  {
   "cell_type": "code",
   "execution_count": 104,
   "metadata": {},
   "outputs": [
    {
     "name": "stdout",
     "output_type": "stream",
     "text": [
      "5\n"
     ]
    }
   ],
   "source": [
    "# What will be printed\n",
    "a = 3----------2\n",
    "print(a)"
   ]
  },
  {
   "cell_type": "code",
   "execution_count": 106,
   "metadata": {},
   "outputs": [
    {
     "name": "stdout",
     "output_type": "stream",
     "text": [
      "RED Cherry: 1\n",
      "Hey Jude\n",
      "BLUE Berry: 1\n",
      "------------------\n",
      "RED Cherry: 2\n",
      "Greater than one\n",
      "RED Cherry: 3\n",
      "Greater than one\n",
      "RED Cherry: 4\n",
      "Greater than one\n"
     ]
    }
   ],
   "source": [
    "# While Loop with continue\n",
    "i=0\n",
    "while i<4:\n",
    "    i+=1;\n",
    "    print (\"RED Cherry: \"+str(i))\n",
    "    if i>1:\n",
    "        print (\"Greater than one\")\n",
    "        continue  # skip remaining part and go to next iteration of loop\n",
    "    else:\n",
    "        print (\"Hey Jude\")\n",
    "        \n",
    "    print (\"BLUE Berry: \"+str(i))\n",
    "    print (\"------------------\")\n",
    "    \n",
    "# str() is type-casting to a string"
   ]
  },
  {
   "cell_type": "code",
   "execution_count": 107,
   "metadata": {},
   "outputs": [
    {
     "name": "stdout",
     "output_type": "stream",
     "text": [
      "---------------\n",
      "RED: 1\n",
      "Hey\n",
      "BLUE: 1\n",
      "---------------\n",
      "RED: 2\n",
      "Hey\n",
      "BLUE: 2\n",
      "---------------\n",
      "RED: 3\n",
      "PLACE HOLDER\n",
      "Error?\n",
      "BLUE: 3\n",
      "---------------\n",
      "RED: 4\n",
      "PLACE HOLDER\n",
      "Error?\n",
      "BLUE: 4\n"
     ]
    }
   ],
   "source": [
    "# While Loop with pass\n",
    "i=0\n",
    "while i<4:\n",
    "    print (\"---------------\")\n",
    "    i+=1;\n",
    "    print (\"RED: \"+str(i))\n",
    "    if i>2:\n",
    "        print (\"PLACE HOLDER\")\n",
    "        pass  # just a place holder for future code\n",
    "        print(\"Error?\")\n",
    "    else:\n",
    "        print (\"Hey\")\n",
    "    print (\"BLUE: \"+str(i))\n",
    "    "
   ]
  },
  {
   "cell_type": "code",
   "execution_count": 108,
   "metadata": {},
   "outputs": [
    {
     "name": "stdout",
     "output_type": "stream",
     "text": [
      "[0, 1, 2, 3, 4]\n",
      "[2, 3, 4]\n",
      "[2, 5, 8, 11, 14, 17]\n"
     ]
    }
   ],
   "source": [
    "# Creating a list of numbers\n",
    "print(range(5))\n",
    "print(range(2,5))\n",
    "print(range(2, 20, 3) )# in increment of 3:  2, 5, ..."
   ]
  },
  {
   "cell_type": "markdown",
   "metadata": {},
   "source": [
    "### Loops: for\n",
    "<img src=\"./images/python_for_loop.jpg\" width=\"300px\"/>\n"
   ]
  },
  {
   "cell_type": "code",
   "execution_count": 14,
   "metadata": {},
   "outputs": [
    {
     "name": "stdout",
     "output_type": "stream",
     "text": [
      "Pass: 0\n",
      "Pass: 1\n",
      "Pass: 2\n",
      "Pass: 3\n",
      "Pass: 4\n"
     ]
    }
   ],
   "source": [
    "#for iterator_var in  sequence\n",
    "for i in range(5):\n",
    "    print (\"Pass: \"+str(i))\n",
    "    "
   ]
  },
  {
   "cell_type": "code",
   "execution_count": 16,
   "metadata": {},
   "outputs": [
    {
     "name": "stdout",
     "output_type": "stream",
     "text": [
      "The monkey jumped for the banana.\n",
      "The monkey jumped for the mango.\n",
      "The monkey jumped for the apple.\n",
      "The monkey jumped for the cherry.\n",
      "The monkey jumped for the peach.\n"
     ]
    }
   ],
   "source": [
    "fruits = [\"banana\", \"mango\", \"apple\", \"cherry\", \"peach\"]\n",
    "for fruit in fruits:\n",
    "    print (\"The monkey jumped for the \" + fruit+\".\")\n",
    "    "
   ]
  },
  {
   "cell_type": "code",
   "execution_count": 112,
   "metadata": {},
   "outputs": [
    {
     "name": "stdout",
     "output_type": "stream",
     "text": [
      "\n",
      " Searching for my favorite fruit...\n",
      "banana: Naaahhhh\n",
      "Keep Looking...\n",
      "\n",
      " Searching for my favorite fruit...\n",
      "mango: Naaahhhh\n",
      "Keep Looking...\n",
      "\n",
      " Searching for my favorite fruit...\n",
      "apple: I love APPLE\n"
     ]
    }
   ],
   "source": [
    "# break, continue or pass the loop\n",
    "fruits = [\"banana\", \"mango\", \"apple\", \"cherry\", \"peach\"]\n",
    "\n",
    "for fruit in fruits:\n",
    "    print (\"\\n Searching for my favorite fruit...\" )\n",
    "    if fruit == \"apple\" or fruit == \"peach\":\n",
    "        print (fruit+\": I love \" + fruit.upper())\n",
    "        break # change this to break  and pass and see the difference\n",
    "    else: \n",
    "        print (fruit+\": Naaahhhh\")\n",
    "    print (\"Keep Looking...\")\n",
    "\n",
    "    \n",
    "    "
   ]
  },
  {
   "cell_type": "code",
   "execution_count": 19,
   "metadata": {},
   "outputs": [
    {
     "name": "stdout",
     "output_type": "stream",
     "text": [
      "\n",
      "...Searching for my favorite fruit\n",
      "banana: Naaahhhh\n",
      "Keep Looking...\n",
      "\n",
      "...Searching for my favorite fruit\n",
      "mango: Naaahhhh\n",
      "Keep Looking...\n",
      "\n",
      "...Searching for my favorite fruit\n",
      "apple: I love APPLE\n",
      "\n",
      "...Searching for my favorite fruit\n",
      "cherry: Naaahhhh\n",
      "Keep Looking...\n",
      "\n",
      "...Searching for my favorite fruit\n",
      "peach: I love PEACH\n"
     ]
    }
   ],
   "source": [
    "# break, continue or pass the loop\n",
    "fruits = [\"banana\", \"mango\", \"apple\", \"cherry\", \"peach\"]\n",
    "\n",
    "for fruit in fruits:\n",
    "    print (\"\\n...Searching for my favorite fruit\" )\n",
    "    if fruit == \"apple\" or fruit == \"peach\":\n",
    "        print (fruit+\": I love \" + fruit.upper())\n",
    "        continue # change this to break  and pass and see the difference\n",
    "    else: \n",
    "        print (fruit+\": Naaahhhh\")\n",
    "    print (\"Keep Looking...\")\n"
   ]
  },
  {
   "cell_type": "code",
   "execution_count": 115,
   "metadata": {
    "scrolled": true
   },
   "outputs": [
    {
     "name": "stdout",
     "output_type": "stream",
     "text": [
      "[(4, 'mango'), (5, 'berry'), (6, 'banana')]\n",
      "Fruit Key:4 with value:mango\n",
      "Fruit Key:5 with value:berry\n",
      "Fruit Key:6 with value:banana\n"
     ]
    }
   ],
   "source": [
    "# with dictionaries\n",
    "fruit_dict = {6:\"banana\", 4:\"mango\", 5:\"berry\"}\n",
    "ii =  fruit_dict.items()\n",
    "print (ii)\n",
    "\n",
    "for key,val in fruit_dict.items():\n",
    "    print (\"Fruit Key:{} with value:{}\".format(key,val))\n",
    "\n",
    "#iteritem works with 2.7 only\n",
    "#in both  Python3.x and 2.7: fruit_dict.items()  works"
   ]
  },
  {
   "cell_type": "markdown",
   "metadata": {},
   "source": [
    "### List Comprehension"
   ]
  },
  {
   "cell_type": "code",
   "execution_count": 116,
   "metadata": {},
   "outputs": [
    {
     "name": "stdout",
     "output_type": "stream",
     "text": [
      "[2, 3, 4, 5, 6, 7, 8, 9]\n",
      "[4, 9, 16, 25, 36, 49, 64, 81]\n",
      "9\n"
     ]
    }
   ],
   "source": [
    "# List comprehension\n",
    "x=0\n",
    "l = range(2, 10)\n",
    "print(l)\n",
    "l2 = [x**2 for x in l]\n",
    "print (l2)\n",
    "print(x)"
   ]
  },
  {
   "cell_type": "code",
   "execution_count": 117,
   "metadata": {},
   "outputs": [
    {
     "name": "stdout",
     "output_type": "stream",
     "text": [
      "[(2, 4), (3, 27), (4, 16), (5, 125), (6, 36), (7, 343), (8, 64), (9, 729)]\n",
      "{2: 4, 3: 27, 4: 16, 5: 125, 6: 36, 7: 343, 8: 64, 9: 729}\n"
     ]
    }
   ],
   "source": [
    "l3 = [(x,x**2) if x%2==0 else (x,x**3) for x in l]\n",
    "print(l3)\n",
    "print(dict(l3)) # Create a dictionary from l3"
   ]
  },
  {
   "cell_type": "code",
   "execution_count": 119,
   "metadata": {},
   "outputs": [
    {
     "name": "stdout",
     "output_type": "stream",
     "text": [
      "Provide five numbers: 3 7 8 19 67\n",
      "['3', '7', '8', '19', '67']\n",
      "[3.0, 7.0, 8.0, 19.0, 67.0]\n"
     ]
    }
   ],
   "source": [
    "# How can you input 5 numbers from keyboard into a list\n",
    "raw = raw_input(\"Provide five numbers: \").split(' ')\n",
    "print(raw)\n",
    "nums = [float(x) for x in raw]\n",
    "\n",
    "#OR\n",
    "#nums = map(float, raw)\n",
    "print(nums)\n",
    "# in 3.x input()"
   ]
  },
  {
   "cell_type": "code",
   "execution_count": 125,
   "metadata": {},
   "outputs": [
    {
     "data": {
      "text/plain": [
       "['Banana', 'Mango']"
      ]
     },
     "execution_count": 125,
     "metadata": {},
     "output_type": "execute_result"
    }
   ],
   "source": [
    "# Get a list of proper names\n",
    "fruits = ['BAnana', 'maNGO']\n",
    "[t.capitalize() for t in fruits]\n",
    "#OR\n",
    "#map(lambda t: t.capitalize(), fruits)"
   ]
  },
  {
   "cell_type": "markdown",
   "metadata": {},
   "source": [
    "### The zip function"
   ]
  },
  {
   "cell_type": "code",
   "execution_count": 36,
   "metadata": {},
   "outputs": [
    {
     "name": "stdout",
     "output_type": "stream",
     "text": [
      "[(1, 'John'), (2, 'Rama'), (3, 'Bill')]\n"
     ]
    }
   ],
   "source": [
    "#zip function\n",
    "l1 =[1, 2, 3]\n",
    "l2 = [\"John\", \"Rama\", \"Bill\"]\n",
    "z = zip(l1, l2)\n",
    "\n",
    "print z"
   ]
  },
  {
   "cell_type": "code",
   "execution_count": 38,
   "metadata": {},
   "outputs": [
    {
     "name": "stdout",
     "output_type": "stream",
     "text": [
      "[(1, 2, 3), ('John', 'Rama', 'Bill')]\n"
     ]
    }
   ],
   "source": [
    "uz = zip(*z)\n",
    "print uz "
   ]
  },
  {
   "cell_type": "code",
   "execution_count": 39,
   "metadata": {},
   "outputs": [
    {
     "name": "stdout",
     "output_type": "stream",
     "text": [
      "['John', 'Rama', 'Bill']\n",
      "{1: 'John', 2: 'Rama', 3: 'Bill'}\n"
     ]
    }
   ],
   "source": [
    "print list(uz[1])\n",
    "print dict(z)"
   ]
  },
  {
   "cell_type": "markdown",
   "metadata": {},
   "source": [
    "### File manipulation"
   ]
  },
  {
   "cell_type": "code",
   "execution_count": 126,
   "metadata": {
    "collapsed": true
   },
   "outputs": [],
   "source": [
    "# file\n",
    "fl = open('./test.txt','w') # Writing mode:w\n",
    "fl.write(\"Where the mind is without fear \\n and the head is held high\")\n",
    "fl.close()"
   ]
  },
  {
   "cell_type": "code",
   "execution_count": 46,
   "metadata": {},
   "outputs": [
    {
     "name": "stdout",
     "output_type": "stream",
     "text": [
      "Where the \n",
      "mind is wi\n"
     ]
    }
   ],
   "source": [
    "fl = open('./test.txt','r') # Writing mode:r\n",
    "text = fl.read(10)\n",
    "print text\n",
    "print fl.read(10)\n",
    "fl.close()"
   ]
  },
  {
   "cell_type": "code",
   "execution_count": 128,
   "metadata": {},
   "outputs": [
    {
     "name": "stdout",
     "output_type": "stream",
     "text": [
      "Where the mind is without fear and the head is held high\n",
      "Where knowledge is free\n",
      "Where the world has not been broken up into fragments\n",
      "By narrow domestic walls\n",
      "Where words come out from the depth of truth\n",
      "Where tireless striving stretches its arms towards perfection\n",
      "Where the clear stream of reason has not lost its way\n",
      "Into the dreary desert sand of dead habit\n",
      "Where the mind is led forward by thee\n",
      "Into ever-widening thought and action\n",
      "Into that heaven of freedom, my Father, let my country awake.\n"
     ]
    }
   ],
   "source": [
    "with open('../where_the_mind.txt','r') as f:\n",
    "    sent = f.read() # Reads everything in one go.\n",
    "print (sent)"
   ]
  },
  {
   "cell_type": "code",
   "execution_count": 131,
   "metadata": {},
   "outputs": [
    {
     "name": "stdout",
     "output_type": "stream",
     "text": [
      "Where the mind is without fear and the head is held high\n",
      "\n",
      "Where knowledge is free\n",
      "\n"
     ]
    }
   ],
   "source": [
    "with open('../where_the_mind.txt','r') as f:\n",
    "    print (f.readline())\n",
    "    print (f.readline())"
   ]
  },
  {
   "cell_type": "code",
   "execution_count": 135,
   "metadata": {},
   "outputs": [
    {
     "name": "stdout",
     "output_type": "stream",
     "text": [
      "Where the mind is without fear and the head is held high\n",
      "Where knowledge is free\n",
      "Where the world has not been broken up into fragments\n",
      "By narrow domestic walls\n",
      "Where words come out from the depth of truth\n",
      "Where tireless striving stretches its arms towards perfection\n",
      "Where the clear stream of reason has not lost its way\n",
      "Into the dreary desert sand of dead habit\n",
      "Where the mind is led forward by thee\n",
      "Into ever-widening thought and action\n",
      "Into that heaven of freedom, my Father, let my country awake."
     ]
    }
   ],
   "source": [
    "with open('../where_the_mind.txt','r') as f:\n",
    "    for line in f:\n",
    "        print(line, end='')\n"
   ]
  },
  {
   "cell_type": "code",
   "execution_count": 54,
   "metadata": {},
   "outputs": [
    {
     "name": "stdout",
     "output_type": "stream",
     "text": [
      "[['Where', 'the', 'mind', 'is', 'without', 'fear', 'and', 'the', 'head', 'is', 'held', 'high\\n'], ['Where', 'knowledge', 'is', 'free\\n'], ['Where', 'the', 'world', 'has', 'not', 'been', 'broken', 'up', 'into', 'fragments\\n'], ['By', 'narrow', 'domestic', 'walls\\n'], ['Where', 'words', 'come', 'out', 'from', 'the', 'depth', 'of', 'truth\\n'], ['Where', 'tireless', 'striving', 'stretches', 'its', 'arms', 'towards', 'perfection\\n'], ['Where', 'the', 'clear', 'stream', 'of', 'reason', 'has', 'not', 'lost', 'its', 'way\\n'], ['Into', 'the', 'dreary', 'desert', 'sand', 'of', 'dead', 'habit\\n'], ['Where', 'the', 'mind', 'is', 'led', 'forward', 'by', 'thee\\n'], ['Into', 'ever-widening', 'thought', 'and', 'action\\n'], ['Into', 'that', 'heaven', 'of', 'freedom,', 'my', 'Father,', 'let', 'my', 'country', 'awake.']]\n"
     ]
    }
   ],
   "source": [
    "# What will be printed\n",
    "with open('../where_the_mind.txt','r') as f:\n",
    "    l=[]\n",
    "    words = [line.split(' ') for line in f]\n",
    "    print(words)"
   ]
  },
  {
   "cell_type": "markdown",
   "metadata": {},
   "source": [
    "### Functional Programming"
   ]
  },
  {
   "cell_type": "code",
   "execution_count": 36,
   "metadata": {},
   "outputs": [
    {
     "data": {
      "text/plain": [
       "6"
      ]
     },
     "execution_count": 36,
     "metadata": {},
     "output_type": "execute_result"
    }
   ],
   "source": [
    "# lambda function - Anonymous function\n",
    "myQuad = lambda x: x**2-2*x+3\n",
    "myQuad(3)"
   ]
  },
  {
   "cell_type": "code",
   "execution_count": 38,
   "metadata": {},
   "outputs": [],
   "source": [
    "def deriv(f,a=1,h=0.01):\n",
    "    return (f(a+h)-f(a))/h"
   ]
  },
  {
   "cell_type": "code",
   "execution_count": 49,
   "metadata": {},
   "outputs": [
    {
     "data": {
      "text/plain": [
       "-1.9999000000003875"
      ]
     },
     "execution_count": 49,
     "metadata": {},
     "output_type": "execute_result"
    }
   ],
   "source": [
    "deriv(lambda x: x**2-2*x+3,0.0,0.0001)"
   ]
  },
  {
   "cell_type": "code",
   "execution_count": 136,
   "metadata": {},
   "outputs": [
    {
     "name": "stdout",
     "output_type": "stream",
     "text": [
      "[1, 2, 3, 4]\n",
      "3\n"
     ]
    }
   ],
   "source": [
    "a = range(1,5)\n",
    "print(a)\n",
    "def quadratic(x, a=1, b=1, c=1):\n",
    "    return a * x**2 + b * x+ c\n",
    "print (quadratic(1))"
   ]
  },
  {
   "cell_type": "code",
   "execution_count": 137,
   "metadata": {},
   "outputs": [
    {
     "name": "stdout",
     "output_type": "stream",
     "text": [
      "[1, 4, 9, 16]\n",
      "[34, 67]\n",
      "[3, 7, 13, 21]\n"
     ]
    }
   ],
   "source": [
    "#map\n",
    "print( map(lambda x: x**2, a)) # Google Anonymous function\n",
    "print (map(int, ['34', '67']))\n",
    "print (map(quadratic, a))"
   ]
  },
  {
   "cell_type": "code",
   "execution_count": 138,
   "metadata": {},
   "outputs": [
    {
     "name": "stdout",
     "output_type": "stream",
     "text": [
      "[2, 4, 6, 8, 10, 12, 14, 16, 18]\n"
     ]
    }
   ],
   "source": [
    "num = range(1,20)\n",
    "print (filter(lambda x: x%2==0, num))"
   ]
  },
  {
   "cell_type": "code",
   "execution_count": 140,
   "metadata": {},
   "outputs": [
    {
     "name": "stdout",
     "output_type": "stream",
     "text": [
      "10\n"
     ]
    }
   ],
   "source": [
    "print (reduce(lambda x, y: x + y, a))"
   ]
  },
  {
   "cell_type": "code",
   "execution_count": 64,
   "metadata": {},
   "outputs": [
    {
     "name": "stdout",
     "output_type": "stream",
     "text": [
      "24\n"
     ]
    }
   ],
   "source": [
    "#In 3.x:  import functools\n",
    "# functools.reduce(...)\n",
    "print reduce(lambda x, y: x * y, a)"
   ]
  },
  {
   "cell_type": "code",
   "execution_count": 65,
   "metadata": {},
   "outputs": [
    {
     "name": "stdout",
     "output_type": "stream",
     "text": [
      "120\n"
     ]
    }
   ],
   "source": [
    "# Write a function for finding factorial using reduce\n",
    "n=5\n",
    "print reduce(lambda x, y: x * y, range(1,n+1))"
   ]
  }
 ],
 "metadata": {
  "kernelspec": {
   "display_name": "Python 3 (ipykernel)",
   "language": "python",
   "name": "python3"
  },
  "language_info": {
   "codemirror_mode": {
    "name": "ipython",
    "version": 3
   },
   "file_extension": ".py",
   "mimetype": "text/x-python",
   "name": "python",
   "nbconvert_exporter": "python",
   "pygments_lexer": "ipython3",
   "version": "3.9.7"
  }
 },
 "nbformat": 4,
 "nbformat_minor": 2
}
