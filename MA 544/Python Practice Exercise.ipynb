{
 "cells": [
  {
   "cell_type": "markdown",
   "id": "3b4df8f3",
   "metadata": {},
   "source": [
    "# Python Practice Assignment\n",
    "---\n",
    "**Instructions**: Please use the Module 1 discussion board on Canvas for hints and other discussions."
   ]
  },
  {
   "cell_type": "markdown",
   "id": "b4fe343d",
   "metadata": {},
   "source": [
    "#### Q1: Write Python code to ask the user for his date of birth in exactly MM/DD/YY format. Provide the user with his/her zodiac sign.\n",
    "Example:\n",
    "\n",
    "Please provide your Date of Borth in MM/DD/YY format.\n",
    "\n",
    "Input:12/11/10\n",
    "\n",
    "Output: Hello Saggitarius! \n",
    "\n",
    "Output: Error message if the DoB was not in correct format.\n"
   ]
  },
  {
   "cell_type": "code",
   "execution_count": null,
   "id": "b8ad7e14",
   "metadata": {},
   "outputs": [],
   "source": [
    "# Your Code Here"
   ]
  },
  {
   "cell_type": "markdown",
   "id": "13f1a815",
   "metadata": {},
   "source": [
    "#### Q2: Give a bar-chart for the number of each vowels (including 'y') in a paragraph that you read from a textfile.\n",
    "Example:\n",
    "\n",
    "Input: Provide the path to a textfile\n",
    "\n",
    "Output: There are 8 'A', 10 'e', ... as shown in the bar chart below.\n",
    "\n",
    "Output: Errors message for various reasons\n"
   ]
  },
  {
   "cell_type": "code",
   "execution_count": null,
   "id": "d98ebf60",
   "metadata": {},
   "outputs": [],
   "source": [
    "# Your Code Here"
   ]
  },
  {
   "cell_type": "markdown",
   "id": "62fafaa7",
   "metadata": {},
   "source": [
    "#### Q3: Ask the user for a natural number. Print a Pascal's Triangle in return for the given natural number.\n",
    "Example:\n",
    "\n",
    "Input:Please give me a decent natural number. -> 7\n",
    "\n",
    "Output:\n",
    "<img src=\"https://encrypted-tbn0.gstatic.com/images?q=tbn:ANd9GcQtLzgCTQAUcbHXAJm7maPFgfBIY-KTDXcqpdWVvtwVOXebEDVRMsXQEgzDlpQrLRQ6a9k&usqp=CAU\" width=30%/>"
   ]
  },
  {
   "cell_type": "code",
   "execution_count": null,
   "id": "a9343282",
   "metadata": {},
   "outputs": [],
   "source": [
    "# Your Code"
   ]
  },
  {
   "cell_type": "markdown",
   "id": "90e0e610",
   "metadata": {},
   "source": [
    "#### Q4: Ask the user to provide a real number called z, and the coefficients of the following polynomial\n",
    "$$P(x)=a_0+a_1 x + a_2 x^2 + \\cdots + a_n x^n$$\n",
    "\n",
    "Write a function to evaluate this polynomial in linear time (and order of operations) by using [Horner's method](https://en.wikipedia.org/wiki/Horner%27s_method)\n",
    "\n",
    "$$\n",
    "\\begin{align}\n",
    "a_0 &+ a_1x + a_2x^2 + a_3x^3 + \\cdots + a_nx^n \\\\\n",
    " &= a_0 + x \\bigg(a_1 + x \\Big(a_2 + x \\big(a_3 + \\cdots + x(a_{n-1} + x \\, a_n) \\cdots \\big) \\Big) \\bigg).\n",
    "\\end{align}\n",
    "$$\n",
    "\n",
    "Return the value of the polynomial $P(z)$.\n",
    "\n",
    "Example:\n",
    "\n",
    "Input: Provide z-> 2\n",
    "\n",
    "Input: Provide the Coefficients of the polynomial-> 1 -2 3 0 0 -1\n",
    "\n",
    "Output1: The provided polynomial is P(x)=1-2x+3x^2-x^5.\n",
    "\n",
    "Output2: P(2)= 1-2(2)+3(2)^2-(2)^5=-23.\n",
    "\n",
    "Output: Error Message for various reasons.\n"
   ]
  },
  {
   "cell_type": "code",
   "execution_count": null,
   "id": "686807f9",
   "metadata": {},
   "outputs": [],
   "source": [
    "# Your Code"
   ]
  }
 ],
 "metadata": {
  "kernelspec": {
   "display_name": "Python 3 (ipykernel)",
   "language": "python",
   "name": "python3"
  },
  "language_info": {
   "codemirror_mode": {
    "name": "ipython",
    "version": 3
   },
   "file_extension": ".py",
   "mimetype": "text/x-python",
   "name": "python",
   "nbconvert_exporter": "python",
   "pygments_lexer": "ipython3",
   "version": "3.9.7"
  }
 },
 "nbformat": 4,
 "nbformat_minor": 5
}
